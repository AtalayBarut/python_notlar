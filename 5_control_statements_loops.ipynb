{
 "cells": [
  {
   "cell_type": "code",
   "execution_count": 2,
   "metadata": {},
   "outputs": [
    {
     "name": "stdout",
     "output_type": "stream",
     "text": [
      "Evde kal\n"
     ]
    }
   ],
   "source": [
    "yas = 21\n",
    "sehir = \"Ankara\"\n",
    "\n",
    "if (yas > 20) and (sehir==\"Ankara\"):\n",
    "    print(\"Evde kal\")\n",
    "else:\n",
    "    print(\"Çık gez\")"
   ]
  },
  {
   "cell_type": "code",
   "execution_count": 4,
   "metadata": {},
   "outputs": [
    {
     "name": "stdout",
     "output_type": "stream",
     "text": [
      "Sosyal mesafeni koru!\n"
     ]
    }
   ],
   "source": [
    "yas = 64\n",
    "\n",
    "if(yas <= 20) or (yas >= 65):\n",
    "    print(\"Evde Kal\")\n",
    "else:\n",
    "    print(\"Sosyal mesafeni koru!\")"
   ]
  },
  {
   "cell_type": "code",
   "execution_count": 5,
   "metadata": {},
   "outputs": [
    {
     "name": "stdout",
     "output_type": "stream",
     "text": [
      "Here is your legal pass.\n"
     ]
    }
   ],
   "source": [
    "age = 25\n",
    "if age > 18:\n",
    "    print(\"Here is your legal pass.\")"
   ]
  },
  {
   "cell_type": "code",
   "execution_count": 6,
   "metadata": {},
   "outputs": [
    {
     "name": "stdout",
     "output_type": "stream",
     "text": [
      "Even\n"
     ]
    }
   ],
   "source": [
    "n = 124\n",
    "if n % 2 == 0:\n",
    "    print(\"Even\")"
   ]
  },
  {
   "cell_type": "code",
   "execution_count": 11,
   "metadata": {},
   "outputs": [
    {
     "name": "stdout",
     "output_type": "stream",
     "text": [
      "'a' is not a vowel.\n",
      "a is not a vowel.\n",
      "'a' is not a vowel\n"
     ]
    }
   ],
   "source": [
    "letter = \"a\"\n",
    "if letter in [\"a\", \"e\", \"i\", \"o\", \"u\"]:\n",
    "    print(f\"'{letter}' is not a vowel.\")\n",
    "    #print(letter, \"is not a vowel.\")\n",
    "    #print(\"'{}' is not a vowel\".format(letter))"
   ]
  },
  {
   "cell_type": "code",
   "execution_count": 9,
   "metadata": {},
   "outputs": [
    {
     "name": "stdout",
     "output_type": "stream",
     "text": [
      "Sayı 50'den büyük ancak 100'den küçüktür\n"
     ]
    }
   ],
   "source": [
    "sayi = 60\n",
    "\n",
    "if (sayi >= 100):\n",
    "    print(\"Sayı 100'den büyük veya eşittir.\")\n",
    "elif(sayi >= 50):\n",
    "    print(\"Sayı 50'den büyük ancak 100'den küçüktür\")\n",
    "else:\n",
    "    print(\"Sayı 50'den küçükür\")\n"
   ]
  },
  {
   "cell_type": "code",
   "execution_count": 10,
   "metadata": {},
   "outputs": [
    {
     "name": "stdout",
     "output_type": "stream",
     "text": [
      "1\n",
      "2\n",
      "3\n",
      "4\n",
      "5\n"
     ]
    }
   ],
   "source": [
    "i = 1\n",
    "while i < 6:\n",
    "  print(i)\n",
    "  i += 1"
   ]
  },
  {
   "cell_type": "code",
   "execution_count": 1,
   "metadata": {},
   "outputs": [
    {
     "name": "stdout",
     "output_type": "stream",
     "text": [
      "1\n",
      "2\n",
      "3\n"
     ]
    }
   ],
   "source": [
    "i = 1\n",
    "while i < 6:\n",
    "    print(i)\n",
    "    if i == 3:\n",
    "        break\n",
    "    i += 1"
   ]
  },
  {
   "cell_type": "code",
   "execution_count": 15,
   "metadata": {},
   "outputs": [
    {
     "name": "stdout",
     "output_type": "stream",
     "text": [
      "53\n",
      "Daha büyük bir sayı deneyin!\n",
      "Tebrikler doğru tahmin!2 kerede bildiniz!\n"
     ]
    }
   ],
   "source": [
    "import random\n",
    "number = random.randint(1,100)\n",
    "print(number) # Sadece doğrulamak için yazdırıldı.\n",
    "guess = 0\n",
    "counter = 0\n",
    "while number != guess:\n",
    "    guess = int(input(\"\\nBir tahmin giriniz:\"))\n",
    "    if (guess > number) : print(\"Daha küçük bir sayı deneyin!\")\n",
    "    elif (guess < number) : print(\"Daha büyük bir sayı deneyin!\")\n",
    "    counter += 1\n",
    "print(f\"Tebrikler doğru tahmin!{counter} kerede bildiniz!\")"
   ]
  },
  {
   "cell_type": "code",
   "execution_count": 18,
   "metadata": {},
   "outputs": [
    {
     "name": "stdout",
     "output_type": "stream",
     "text": [
      "0'ın karesi 0\n",
      "1'ın karesi 1\n",
      "2'ın karesi 4\n",
      "3'ın karesi 9\n",
      "4'ın karesi 16\n",
      "5'ın karesi 25\n",
      "6'ın karesi 36\n",
      "7'ın karesi 49\n",
      "8'ın karesi 64\n",
      "9'ın karesi 81\n"
     ]
    }
   ],
   "source": [
    "sayilar = [0, 1, 2, 3, 4, 5, 6, 7, 8, 9]\n",
    "# Her sayının karesini yazdır\n",
    "for sayi in sayilar:\n",
    "    print(f\"{sayi}'ın karesi\", sayi**2)"
   ]
  },
  {
   "cell_type": "code",
   "execution_count": 22,
   "metadata": {},
   "outputs": [
    {
     "name": "stdout",
     "output_type": "stream",
     "text": [
      "[3, 33, 24, 26, 2, 25]\n",
      "[20, 36, 5, 6, 9, 2]\n"
     ]
    }
   ],
   "source": [
    "# Sayısal loto programı\n",
    "import random as rnd\n",
    "\n",
    "sayiListesi = []\n",
    "\n",
    "for i in range(1, 7):\n",
    "    sayi = rnd.randint(1, 49)\n",
    "    while sayi in sayiListesi:\n",
    "        sayi = rnd.randint(1, 49)\n",
    "    sayiListesi.append(sayi)\n",
    "\n",
    "print(sayiListesi)\n",
    "\n",
    "numbers = []\n",
    "\n",
    "# bu benim yazdığım daha güzel bence :P\n",
    "while(len(numbers)<6):\n",
    "    number = rnd.randint(1,49)\n",
    "    if(number not in numbers):\n",
    "        numbers.append(number)\n",
    "print(numbers)\n",
    "    "
   ]
  },
  {
   "cell_type": "code",
   "execution_count": 41,
   "metadata": {},
   "outputs": [
    {
     "name": "stdout",
     "output_type": "stream",
     "text": [
      "en değeri:5\n",
      "boy değeri:5\n",
      "\n",
      "* * * * * \n",
      "* * * * * \n",
      "* * * * * \n",
      "* * * * * \n",
      "* * * * * \n"
     ]
    }
   ],
   "source": [
    "# iç içe döngü kullanımı\n",
    "en = int(input(\"en değeri:\")) \n",
    "boy = int(input (\"boy değeri:\"))\n",
    "print()\n",
    "for i in range(0, en):\n",
    "    for j in range(0, boy):\n",
    "        print(\"*\", end=\" \")\n",
    "    print()"
   ]
  },
  {
   "cell_type": "code",
   "execution_count": 42,
   "metadata": {},
   "outputs": [
    {
     "name": "stdout",
     "output_type": "stream",
     "text": [
      "1\n",
      "2\n",
      "3\n"
     ]
    }
   ],
   "source": [
    "for i in range(1,11): # break kullanımı\n",
    "    if (i == 4):\n",
    "        break\n",
    "    print(i)"
   ]
  },
  {
   "cell_type": "code",
   "execution_count": 28,
   "metadata": {},
   "outputs": [
    {
     "name": "stdout",
     "output_type": "stream",
     "text": [
      "1 2 3 5 6 7 8 9 10 "
     ]
    }
   ],
   "source": [
    "for i in range(1,11): # continue kullanımı\n",
    "    if (i == 4):\n",
    "        continue\n",
    "    print(i, end=\" \")"
   ]
  },
  {
   "cell_type": "code",
   "execution_count": null,
   "metadata": {},
   "outputs": [],
   "source": []
  },
  {
   "cell_type": "code",
   "execution_count": 32,
   "metadata": {},
   "outputs": [
    {
     "name": "stdout",
     "output_type": "stream",
     "text": [
      "3 6 9 12 15 18 21 24 27 30 33 36 39 42 45 48 51 54 57 60 63 66 69 72 75 78 81 84 87 90 93 96 99 102 105 108 111 114 117 120 123 126 129 132 135 138 141 144 147 150 153 156 159 162 165 168 171 174 177 180 183 186 189 192 195 198 \n",
      "\n",
      " [3, 6, 9, 12, 15, 18, 21, 24, 27, 30, 33, 36, 39, 42, 45, 48, 51, 54, 57, 60, 63, 66, 69, 72, 75, 78, 81, 84, 87, 90, 93, 96, 99, 102, 105, 108, 111, 114, 117, 120, 123, 126, 129, 132, 135, 138, 141, 144, 147, 150, 153, 156, 159, 162, 165, 168, 171, 174, 177, 180, 183, 186, 189, 192, 195, 198]\n"
     ]
    }
   ],
   "source": [
    "for i in range(0, 200):\n",
    "    if (i == 0):\n",
    "        continue\n",
    "    elif(i % 3 != 0):\n",
    "        continue\n",
    "    print(i, end=\" \")\n",
    "\n",
    "# list comprehension\n",
    "print(\"\\n\\n\", [num for num in range(1, 200) if num % 3 == 0])  # returns a list\n"
   ]
  },
  {
   "cell_type": "code",
   "execution_count": 37,
   "metadata": {},
   "outputs": [
    {
     "name": "stdout",
     "output_type": "stream",
     "text": [
      "a = 3 tanımlıdır\n"
     ]
    }
   ],
   "source": [
    "a = 3\n",
    "if a:\n",
    "    print(f\"a = {a} tanımlıdır\")"
   ]
  },
  {
   "cell_type": "code",
   "execution_count": 38,
   "metadata": {},
   "outputs": [
    {
     "name": "stdout",
     "output_type": "stream",
     "text": [
      "Thank you\n"
     ]
    }
   ],
   "source": [
    "# Exercise 1\n",
    "num = int(input(\"Enter a number between 10 and 20:\"))\n",
    "\n",
    "if (num>=10) and (num<20):\n",
    "    print(\"Thank you\")\n",
    "else:\n",
    "    print(\"Incorrect answer\") "
   ]
  },
  {
   "cell_type": "code",
   "execution_count": 43,
   "metadata": {},
   "outputs": [
    {
     "name": "stdout",
     "output_type": "stream",
     "text": [
      "Please only answer as 'yes' or 'no'\n",
      "Please only answer as 'yes' or 'no'\n",
      "Enjoy your day\n"
     ]
    }
   ],
   "source": [
    "# Exercise 2\n",
    "rainLoop = True\n",
    "windLoop = True\n",
    "while(rainLoop):\n",
    "    rainTemp = input(\"Is the weather rainy?\")\n",
    "    rainTemp.lower()\n",
    "    if(rainTemp == \"yes\") or (rainTemp == \"no\"):\n",
    "        rainStatus = rainTemp\n",
    "        rainLoop = False\n",
    "    else:\n",
    "        print(\"Please only answer as 'yes' or 'no'\")\n",
    "\n",
    "while(windLoop):\n",
    "    windTemp = input(\"Is the weather windy?\")\n",
    "    windTemp.lower()\n",
    "    if(windTemp == \"yes\") or (windTemp == \"no\"):\n",
    "        windStatus = windTemp\n",
    "        windLoop = False\n",
    "    else:\n",
    "        print(\"Please only answer as 'yes' or 'no'\")\n",
    "        \n",
    "\n",
    "if (rainStatus == \"yes\") and (windStatus == \"yes\"):\n",
    "    print(\"It is too windy for an umbrealla\")\n",
    "elif(rainStatus == \"yes\") and (windStatus == \"no\"):\n",
    "    print(\"Take an umbrella\")\n",
    "else:\n",
    "    print(\"Enjoy your day\")\n"
   ]
  },
  {
   "cell_type": "code",
   "execution_count": null,
   "metadata": {},
   "outputs": [],
   "source": [
    "# Exercise 3\n",
    "total = 0\n",
    "print(\"Toplam 5 adet sayı girmeniz istenecek\")\n",
    "for i in range(1, 6):\n",
    "    print(f\"sayi {i}\", \"giriniz:\")\n",
    "    number = int(input())\n",
    "    print(f\"{number}\", \"sayısını toplama eklemek istiyor musun?\", end=\"\")\n",
    "    answer = input()\n",
    "    print(f\"{answer}\")\n",
    "    if(answer == \"evet\"):\n",
    "        total += number\n",
    "print(total)"
   ]
  },
  {
   "cell_type": "code",
   "execution_count": 54,
   "metadata": {},
   "outputs": [
    {
     "name": "stdout",
     "output_type": "stream",
     "text": [
      "Başka katılımcı davet etmek istiyor musunuz?\n",
      "Başka katılımcı davet etmek istiyor musunuz?\n",
      "Davetliler: ['atalay', 'aaaa']\n"
     ]
    }
   ],
   "source": [
    "# Exercise 4\n",
    "guests = []\n",
    "isInvitationAccepted = True\n",
    "\n",
    "while(isInvitationAccepted):\n",
    "    guest = input(\"Davet etmek istediğiniz kişinin adını girin:\")\n",
    "    guests.append(guest)\n",
    "    invitationAnswer = input(print(\"Başka katılımcı davet etmek istiyor musunuz?\")).lower()\n",
    "    if(invitationAnswer == \"hayır\"):\n",
    "        isInvitationAccepted = False\n",
    "\n",
    "print(f\"Davetliler:\", guests)"
   ]
  }
 ],
 "metadata": {
  "kernelspec": {
   "display_name": "Python 3",
   "language": "python",
   "name": "python3"
  },
  "language_info": {
   "codemirror_mode": {
    "name": "ipython",
    "version": 3
   },
   "file_extension": ".py",
   "mimetype": "text/x-python",
   "name": "python",
   "nbconvert_exporter": "python",
   "pygments_lexer": "ipython3",
   "version": "3.9.7"
  }
 },
 "nbformat": 4,
 "nbformat_minor": 4
}
