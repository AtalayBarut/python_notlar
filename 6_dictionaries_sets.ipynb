{
 "cells": [
  {
   "cell_type": "code",
   "execution_count": 35,
   "metadata": {},
   "outputs": [
    {
     "name": "stdout",
     "output_type": "stream",
     "text": [
      "{'name': 'atalay', 'age': 36, 'sex': 'male'}\n",
      "atalay\n",
      "atalay\n",
      "None\n",
      "name\n",
      "age\n",
      "sex\n",
      "atalay\n",
      "36\n",
      "male\n",
      "name atalay\n",
      "age 36\n",
      "sex male\n",
      "--------------------------------------------------\n",
      "manisa\n",
      "None\n"
     ]
    }
   ],
   "source": [
    "# DICTIONARY ÖZET #\n",
    "\n",
    "user1 = {\n",
    "    \"name\": \"atalay\",\n",
    "    \"age\": 36,\n",
    "    \"sex\": \"male\"\n",
    "}\n",
    "\n",
    "print(user1)\n",
    "print(user1[\"name\"])\n",
    "print(user1.get(\"name\"))\n",
    "\n",
    "# print(user1[\"location\"])\n",
    "print(user1.get(\"location\"))\n",
    "\n",
    "for key in user1.keys():\n",
    "    print(key)\n",
    "\n",
    "for value in user1.values():\n",
    "    print(value)\n",
    "\n",
    "for key, value in user1.items():\n",
    "    print(key, value)\n",
    "\n",
    "print(\"-\"*50)\n",
    "user2 = {\n",
    "    \"name\": \"ipek\",\n",
    "    \"age\": 30,\n",
    "    \"sex\": \"female\"\n",
    "}\n",
    "\n",
    "user2[\"location\"] = \"manisa\"\n",
    "print(user2.get(\"location\"))\n",
    "print(user1.get(\"location\"))\n",
    "\n"
   ]
  },
  {
   "cell_type": "code",
   "execution_count": 1,
   "metadata": {},
   "outputs": [
    {
     "name": "stdout",
     "output_type": "stream",
     "text": [
      "{'state': 'NY', 'city': 'New York'}\n",
      "{'state': 'NY', 'city': 'New York'}\n",
      "{'state': 'Maryland', 'city': 'Baltimore'}\n",
      "Maryland\n",
      "{'state': 'NY', 'city': 'New York', 'TCKN': 33342536467}\n",
      "<class 'str'>\n",
      "<class 'int'>\n"
     ]
    }
   ],
   "source": [
    "# Dictionary, key-value şeklinde tutar\n",
    "\n",
    "# You can create a dictionary in two ways. \n",
    "# The first way is to simply assign an empty dictionary to a variable by using curly brackets, like so: dictionary = {}\n",
    "# The second way is to use the dict() function to return a new dictionary: dictionary = dict()\n",
    "\n",
    "d = dict(\n",
    "    state=\"NY\",\n",
    "    city=\"New York\"\n",
    ")\n",
    "print(d)\n",
    "\n",
    "dictionary1 = dict(\n",
    "    state=\"NY\",\n",
    "    city=\"New York\"\n",
    ")\n",
    "print(dictionary1)\n",
    "\n",
    "dictionary2 = {  # Bu şekilde de tanımlanabiliyor, JSON gibi..\n",
    "    \"state\": \"Maryland\",\n",
    "    \"city\": \"Baltimore\"\n",
    "}\n",
    "print(dictionary2)\n",
    "\n",
    "print(dictionary2[\"state\"])\n",
    "\n",
    "dictionary1[\"TCKN\"] = 33342536467\n",
    "print(dictionary1)\n",
    "\n",
    "print(type(dictionary1[\"state\"]))\n",
    "print(type(dictionary1[\"TCKN\"]))\n"
   ]
  },
  {
   "cell_type": "code",
   "execution_count": 18,
   "metadata": {},
   "outputs": [
    {
     "name": "stdout",
     "output_type": "stream",
     "text": [
      "NY\n",
      "None\n",
      "None\n"
     ]
    }
   ],
   "source": [
    "# dictionary de yazılan key yoksa hata alır. Hata almamak için get kullanın.\n",
    "dictionary1 = dict(\n",
    " state=\"NY\",\n",
    " city=\"New York\"\n",
    " )\n",
    "print(dictionary1.get(\"state\"))\n",
    "print(dictionary1.get(\"state2\"))\n",
    "print(dictionary1.get(\"state3\"))"
   ]
  },
  {
   "cell_type": "code",
   "execution_count": 22,
   "metadata": {},
   "outputs": [
    {
     "name": "stdout",
     "output_type": "stream",
     "text": [
      "state\n",
      "city\n",
      "state\n",
      "city\n",
      "NY\n",
      "New York\n",
      "state NY\n",
      "city New York\n",
      "var\n",
      "var\n",
      "var\n",
      "dict_values(['NY', 'New York'])\n",
      "dict_keys(['state', 'city'])\n"
     ]
    }
   ],
   "source": [
    "# dictionary üzerinde gezmek\n",
    "\n",
    "dictionary1 = dict(\n",
    "    state = \"NY\",\n",
    "    city = \"New York\"\n",
    ")\n",
    "\n",
    "for i in dictionary1:\n",
    "    print(i)\n",
    "\n",
    "\n",
    "# key ler şöyle de yazdırılabilir.\n",
    "for i in dictionary1.keys():\n",
    "    print(i)\n",
    "\n",
    "# value ları yazdır\n",
    "for i in dictionary1.values():\n",
    "    print(i) \n",
    "    \n",
    "# Hem key, hem value yazdıralım\n",
    "\n",
    "for key, value in dictionary1.items():\n",
    "    print(key, value)\n",
    "\n",
    "# dictionary de key arama\n",
    "\n",
    "if \"state\" in dictionary1:\n",
    "    print(\"var\")\n",
    "else:\n",
    "    print(\"yok\")\n",
    "\n",
    "\n",
    "if \"NY\" in dictionary1.values():\n",
    "    print(\"var\")\n",
    "else:\n",
    "    print(\"yok\")\n",
    "\n",
    "\n",
    "if \"state\" in dictionary1.keys():\n",
    "    print(\"var\")\n",
    "else:\n",
    "    print(\"yok\")\n",
    "    \n",
    "print(dictionary1.values())\n",
    "print(dictionary1.keys())"
   ]
  },
  {
   "cell_type": "code",
   "execution_count": 25,
   "metadata": {},
   "outputs": [
    {
     "name": "stdout",
     "output_type": "stream",
     "text": [
      "<class 'list'>\n",
      "<class 'set'>\n",
      "['ankara', 'manisa', 'izmir', 'istanbul', 'manisa']\n",
      "{'ankara', 'izmir', 'manisa', 'istanbul'}\n",
      "{'ankara', 'manisa'}\n",
      "{'s', 'l', ' ', 'a', 'k', 'd', 'u', 'o', 'n', 'e', 'r', 'i'}\n",
      "{'s', 'l', ' ', 'a', 'k', 'd', 'u', 'o', 'n', 'e', 'x', 'r', 'i'}\n",
      "{'ç', 's', 'l', ' ', 'a', 'k', 'd', 'ğ', 'u', 'o', 'n', 'j', 'e', 'x', 'r', 'i'}\n",
      "ç\n",
      "s\n",
      "l\n",
      " \n",
      "a\n",
      "k\n",
      "d\n",
      "ğ\n",
      "u\n",
      "o\n",
      "n\n",
      "j\n",
      "e\n",
      "x\n",
      "r\n",
      "i\n",
      "{'ç', 's', 'l', ' ', 'a', 'k', 'd', 'ğ', 'u', 'o', 'n', 'j', 'e', 'x', 'r', 'i'}\n",
      "{'s', 'l', ' ', 'a', 'k', 'd', 'ğ', 'u', 'o', 'n', 'j', 'e', 'x', 'r', 'i'}\n"
     ]
    }
   ],
   "source": [
    "# Set\n",
    "\n",
    "iller = [\"ankara\", \"manisa\", \"izmir\", \"istanbul\", \"manisa\"]\n",
    "\n",
    "print(type(iller))\n",
    "\n",
    "ilSet = set(iller)\n",
    "\n",
    "print(type(ilSet))\n",
    "\n",
    "print(iller)\n",
    "\n",
    "print(ilSet)\n",
    "\n",
    "\n",
    "il2 = {\"ankara\", \"manisa\"}\n",
    "\n",
    "print(il2)\n",
    "\n",
    "\n",
    "okul = \"ankara anadolu lisesi\"\n",
    "\n",
    "okulSet = set(okul)\n",
    "\n",
    "print(okulSet)\n",
    "\n",
    "\n",
    "# set e add metoduyla ekliyoruz.\n",
    "\n",
    "okulSet.add(\"x\")\n",
    "\n",
    "print(okulSet)\n",
    "\n",
    "# set e update metoduyla iterable(list, tuple,string)ekleyebiliyoruz.\n",
    "\n",
    "okulSet.update(['j','ğ','ç'])\n",
    "\n",
    "print(okulSet)\n",
    "\n",
    "\n",
    "# set den okuma\n",
    "\n",
    "for i in okulSet:\n",
    "    print(i)\n",
    "\n",
    "\n",
    "# pop metodu --> setin başından siler\n",
    "\n",
    "print(okulSet)\n",
    "\n",
    "okulSet.pop()\n",
    "\n",
    "print(okulSet)"
   ]
  },
  {
   "cell_type": "code",
   "execution_count": 26,
   "metadata": {},
   "outputs": [
    {
     "name": "stdout",
     "output_type": "stream",
     "text": [
      "{'a', 'b', 'c'}\n"
     ]
    }
   ],
   "source": [
    "# kitap - sayfa 169 - Aktivite 26\n",
    "\n",
    "def set_maker(liste):\n",
    "    return set(liste)\n",
    "\n",
    "\n",
    "print(set_maker([\"a\", \"b\", \"c\", \"a\", \"c\"]))"
   ]
  },
  {
   "cell_type": "code",
   "execution_count": 27,
   "metadata": {},
   "outputs": [
    {
     "name": "stdout",
     "output_type": "stream",
     "text": [
      "{1, 5, 72, 13, 56}\n",
      "{1, 5, 13, 56}\n",
      "{1, 5, 13}\n"
     ]
    }
   ],
   "source": [
    "# set --> remove\n",
    "\n",
    "set1 = {1, 5, 13, 72, 56}\n",
    "\n",
    "print(set1)\n",
    "\n",
    "set1.remove(72)\n",
    "\n",
    "print(set1)\n",
    "\n",
    "#set1.remove(720)\n",
    "\n",
    "set1.discard(720)\n",
    "\n",
    "set1.discard(56)\n",
    "\n",
    "print(set1)"
   ]
  }
 ],
 "metadata": {
  "kernelspec": {
   "display_name": "Python 3",
   "language": "python",
   "name": "python3"
  },
  "language_info": {
   "codemirror_mode": {
    "name": "ipython",
    "version": 3
   },
   "file_extension": ".py",
   "mimetype": "text/x-python",
   "name": "python",
   "nbconvert_exporter": "python",
   "pygments_lexer": "ipython3",
   "version": "3.9.7"
  }
 },
 "nbformat": 4,
 "nbformat_minor": 4
}
