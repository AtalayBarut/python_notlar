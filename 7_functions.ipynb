{
 "cells": [
  {
   "cell_type": "code",
   "execution_count": 3,
   "metadata": {},
   "outputs": [
    {
     "name": "stdout",
     "output_type": "stream",
     "text": [
      "26\n"
     ]
    }
   ],
   "source": [
    "import random as rnd\n",
    "def rastgele(min,max):\n",
    "    sayi = rnd.randint(min,max)\n",
    "    return sayi\n",
    "\n",
    "sayi = rastgele(1,49)\n",
    "print(sayi)"
   ]
  },
  {
   "cell_type": "code",
   "execution_count": 12,
   "metadata": {},
   "outputs": [
    {
     "name": "stdout",
     "output_type": "stream",
     "text": [
      "4\n"
     ]
    }
   ],
   "source": [
    "def kare_al(sayi):\n",
    "    return sayi**2\n",
    "print(kare_al(2))"
   ]
  },
  {
   "cell_type": "code",
   "execution_count": 15,
   "metadata": {},
   "outputs": [
    {
     "name": "stdout",
     "output_type": "stream",
     "text": [
      "abcdefghijklmnopqrstuvwxyzABCDEFGHIJKLMNOPQRSTUVWXYZ0123456789\n",
      "------------------\n",
      "Şifre üretici\n",
      "porEA5zs\n",
      "\n",
      "------------------\n",
      "Parametrik Şifre Üretici\n",
      "UHOqEPmxKM4bBZIpg7w6\n"
     ]
    }
   ],
   "source": [
    "import string \n",
    "import random as rnd\n",
    "sifrestr = string.ascii_letters + string.digits\n",
    "print(sifrestr)\n",
    "\n",
    "print(\"------------------\")\n",
    "print(\"Şifre üretici\")\n",
    "\n",
    "print(\"\".join(rnd.sample(sifrestr, 8)))\n",
    "print()\n",
    "print(\"------------------\")\n",
    "print(\"Parametrik Şifre Üretici\")\n",
    "\n",
    "def sifreuret(uzunluk):\n",
    "    sifrestr = string.ascii_letters + string.digits\n",
    "    sonuc = \"\".join(rnd.sample(sifrestr, uzunluk))\n",
    "    return sonuc\n",
    "\n",
    "print(sifreuret(20)) "
   ]
  },
  {
   "cell_type": "code",
   "execution_count": 21,
   "metadata": {},
   "outputs": [
    {
     "name": "stdout",
     "output_type": "stream",
     "text": [
      "25\n",
      "19\n"
     ]
    }
   ],
   "source": [
    "def topla(*sayilar):\n",
    "    toplam = 0\n",
    "    for i in sayilar:\n",
    "        toplam += i\n",
    "    return toplam\n",
    "\n",
    "print(topla(1, 3, 4, 5, 12))\n",
    "print(topla(5, 6, 8))"
   ]
  },
  {
   "cell_type": "code",
   "execution_count": 37,
   "metadata": {},
   "outputs": [
    {
     "name": "stdout",
     "output_type": "stream",
     "text": [
      "1\n",
      "2\n",
      "3\n",
      "ATALAY\n"
     ]
    }
   ],
   "source": [
    "def print_arguments(*args):\n",
    "    for i in args:\n",
    "        print(i)\n",
    "\n",
    "print_arguments(1, 2, 3, \"ATALAY\")\n"
   ]
  },
  {
   "cell_type": "code",
   "execution_count": 22,
   "metadata": {},
   "outputs": [
    {
     "name": "stdout",
     "output_type": "stream",
     "text": [
      "15\n"
     ]
    }
   ],
   "source": [
    "def topla(numbers):\n",
    "    sum = 0\n",
    "    for num in numbers:\n",
    "        sum += num\n",
    "    return sum\n",
    "\n",
    "numbers = [1, 2, 3, 4, 5]\n",
    "print(topla(numbers))"
   ]
  },
  {
   "cell_type": "code",
   "execution_count": 25,
   "metadata": {},
   "outputs": [
    {
     "name": "stdout",
     "output_type": "stream",
     "text": [
      "5\n",
      "5\n"
     ]
    }
   ],
   "source": [
    "def divide(a, b):\n",
    "    return int(a/b)\n",
    "\n",
    "print(divide(10, 2))\n",
    "print(divide(b=2, a=10))"
   ]
  },
  {
   "cell_type": "code",
   "execution_count": 31,
   "metadata": {},
   "outputs": [
    {
     "name": "stdout",
     "output_type": "stream",
     "text": [
      "5\n",
      "3\n"
     ]
    }
   ],
   "source": [
    "def divide(a, b=2):\n",
    "    return int(a/b)\n",
    "\n",
    "print(divide(10))\n",
    "print(divide(10, 3))"
   ]
  },
  {
   "cell_type": "code",
   "execution_count": 5,
   "metadata": {},
   "outputs": [
    {
     "name": "stdout",
     "output_type": "stream",
     "text": [
      "['False', 'None', 'True', 'and', 'as', 'assert', 'async', 'await', 'break', 'class', 'continue', 'def', 'del', 'elif', 'else', 'except', 'finally', 'for', 'from', 'global', 'if', 'import', 'in', 'is', 'lambda', 'nonlocal', 'not', 'or', 'pass', 'raise', 'return', 'try', 'while', 'with', 'yield']\n",
      "Kullanabilirsin\n",
      "Global değişkenimiz: 5\n",
      "Dış Total: 122\n"
     ]
    }
   ],
   "source": [
    "import random as rnd\n",
    "import keyword\n",
    "\n",
    "kelime=\"final\"\n",
    "\n",
    "number = 5\n",
    "\n",
    "def sum_all(first,second):\n",
    "    total = first+second\n",
    "    return total\n",
    "\n",
    "print(keyword.kwlist)\n",
    "\n",
    "if(kelime in keyword.kwlist):\n",
    "    print(\"Kullanma!\")\n",
    "else:\n",
    "    print(\"Kullanabilirsin\")\n",
    "\n",
    "dis_total = sum_all(55, 67)\n",
    "\n",
    "print(\"Global değişkenimiz:\", str(number))\n",
    "\n",
    "print(\"Dış Total:\", str(dis_total))"
   ]
  },
  {
   "cell_type": "code",
   "execution_count": 6,
   "metadata": {},
   "outputs": [
    {
     "name": "stdout",
     "output_type": "stream",
     "text": [
      "Adınızı girin:Atalay\n",
      "Adınız: Atalay\n",
      "Merhaba\n"
     ]
    }
   ],
   "source": [
    "def ask_name():\n",
    "    ad = input(\"Adınızı girin:\")\n",
    "    print(\"Adınız:\", ad)\n",
    "\n",
    "def say_helllo():\n",
    "    print(\"Merhaba\")"
   ]
  },
  {
   "cell_type": "code",
   "execution_count": null,
   "metadata": {},
   "outputs": [],
   "source": [
    "if __name__==\"__main__\":\n",
    "    main() "
   ]
  },
  {
   "cell_type": "code",
   "execution_count": 2,
   "metadata": {},
   "outputs": [
    {
     "name": "stdout",
     "output_type": "stream",
     "text": [
      "5.0\n"
     ]
    }
   ],
   "source": [
    "# Keyword arguments\n",
    "def bolme(sayi1, sayi2):\n",
    "    return sayi1 / sayi2\n",
    "\n",
    "sonuc = bolme(sayi2=2, sayi1=10)\n",
    "print(sonuc)"
   ]
  },
  {
   "cell_type": "code",
   "execution_count": 1,
   "metadata": {},
   "outputs": [
    {
     "name": "stdout",
     "output_type": "stream",
     "text": [
      "Ankara\n",
      "Manisa\n"
     ]
    }
   ],
   "source": [
    "# Default arguments\n",
    "def sehir_yazdir(sehir = \"Manisa\"):\n",
    "    print(sehir)\n",
    "    \n",
    "sehir_yazdir(\"Ankara\")\n",
    "sehir_yazdir()"
   ]
  },
  {
   "cell_type": "code",
   "execution_count": 2,
   "metadata": {},
   "outputs": [
    {
     "name": "stdout",
     "output_type": "stream",
     "text": [
      "8.0\n"
     ]
    }
   ],
   "source": [
    "# Variable number of arguments\n",
    "\n",
    "def calculate_avg(*args):\n",
    "    sum = 0\n",
    "    count = len(args)\n",
    "    for arg in args:\n",
    "        sum += arg\n",
    "    avg = sum/count\n",
    "    return avg\n",
    "\n",
    "print(calculate_avg(2,4,10,16))"
   ]
  },
  {
   "cell_type": "code",
   "execution_count": 6,
   "metadata": {},
   "outputs": [
    {
     "name": "stdout",
     "output_type": "stream",
     "text": [
      "3.4\n",
      "s\n",
      "1.0\n"
     ]
    }
   ],
   "source": [
    "def print_arguments(*args):\n",
    "    for arg in args:\n",
    "        if type(arg) == int:\n",
    "            continue\n",
    "        print(arg)\n",
    "\n",
    "print_arguments(2, 3.4, \"s\", 1.0)\n",
    " \n"
   ]
  },
  {
   "cell_type": "code",
   "execution_count": 5,
   "metadata": {},
   "outputs": [
    {
     "name": "stdout",
     "output_type": "stream",
     "text": [
      "15\n"
     ]
    }
   ],
   "source": [
    "# Lambda functions\n",
    "answer = lambda first, second : first + second\n",
    "print(answer(6, 9))"
   ]
  },
  {
   "cell_type": "code",
   "execution_count": 4,
   "metadata": {},
   "outputs": [
    {
     "name": "stdout",
     "output_type": "stream",
     "text": [
      "[4, 16, 36, 64, 100]\n"
     ]
    }
   ],
   "source": [
    "# List map() function\n",
    "numbers = [2, 4, 6, 8, 10]\n",
    "squared = []\n",
    "\n",
    "squared = list(map(lambda num: num ** 2, numbers))\n",
    "print(squared)"
   ]
  },
  {
   "cell_type": "code",
   "execution_count": 3,
   "metadata": {},
   "outputs": [
    {
     "name": "stdout",
     "output_type": "stream",
     "text": [
      "[4, 16, 36, 64, 100]\n"
     ]
    }
   ],
   "source": [
    "# List Comprehension ile de yapılabilir\n",
    "numbers = [2, 4, 6, 8, 10]\n",
    "squared = []\n",
    "\n",
    "squared = [num**2 for num in numbers]\n",
    "print(squared)"
   ]
  },
  {
   "cell_type": "code",
   "execution_count": 12,
   "metadata": {},
   "outputs": [
    {
     "name": "stdout",
     "output_type": "stream",
     "text": [
      "[6, 8, 2, 14, 26]\n",
      "[6, 8, 2, 14, 26]\n",
      "----------------------------------------------------------------------------------------------------\n",
      "[10, 8, 7, 5, 11]\n"
     ]
    }
   ],
   "source": [
    "# filter() with lambda functions\n",
    "numbers = [1, 3, 5, 6, 8, 2, 14, 26, 37]\n",
    "\n",
    "even = list(filter(lambda x : x % 2 == 0, numbers))\n",
    "print(even)\n",
    "\n",
    "even2 = [num for num in numbers if num % 2 == 0]\n",
    "print(even2)\n",
    "\n",
    "print(\"-\"*100)\n",
    "sequences = [10,2,8,7,5,4,3,11,0, 1]\n",
    "filtered_result = list(filter(lambda x: x > 4, sequences))\n",
    "print(filtered_result)"
   ]
  }
 ],
 "metadata": {
  "kernelspec": {
   "display_name": "Python 3",
   "language": "python",
   "name": "python3"
  },
  "language_info": {
   "codemirror_mode": {
    "name": "ipython",
    "version": 3
   },
   "file_extension": ".py",
   "mimetype": "text/x-python",
   "name": "python",
   "nbconvert_exporter": "python",
   "pygments_lexer": "ipython3",
   "version": "3.9.7"
  }
 },
 "nbformat": 4,
 "nbformat_minor": 4
}
