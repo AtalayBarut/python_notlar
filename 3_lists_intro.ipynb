{
 "cells": [
  {
   "cell_type": "code",
   "execution_count": 15,
   "metadata": {},
   "outputs": [
    {
     "name": "stdout",
     "output_type": "stream",
     "text": [
      "-5\n",
      "6\n"
     ]
    }
   ],
   "source": [
    "sayilar = [14, 28, -5, 0, 37, 46]\n",
    "print(sayilar[2])\n",
    "print(len(sayilar))"
   ]
  },
  {
   "cell_type": "code",
   "execution_count": 2,
   "metadata": {},
   "outputs": [
    {
     "name": "stdout",
     "output_type": "stream",
     "text": [
      "Edip\n"
     ]
    }
   ],
   "source": [
    "import random\n",
    "isimler = [\"Aziz\", \"Barış\", \"Cem\", \"Haluk\", \"Edip\"]\n",
    "print(isimler[random.randint(0,4)])"
   ]
  },
  {
   "cell_type": "code",
   "execution_count": 3,
   "metadata": {},
   "outputs": [
    {
     "data": {
      "text/plain": [
       "[1, 3.14159, 'Spring', 'Summer', [1, 2, 3, 4]]"
      ]
     },
     "execution_count": 3,
     "metadata": {},
     "output_type": "execute_result"
    }
   ],
   "source": [
    "mixed_list = [1, 3.14159, \"Spring\", \"Summer\", [1, 2, 3, 4]]\n",
    "mixed_list"
   ]
  },
  {
   "cell_type": "code",
   "execution_count": 4,
   "metadata": {},
   "outputs": [
    {
     "name": "stdout",
     "output_type": "stream",
     "text": [
      "['Eva', 'Keziah', 'Jean', 'Diana']\n"
     ]
    }
   ],
   "source": [
    "names = [\"Eva\", \"Keziah\", \"John\", \"Diana\"]\n",
    "names[2] = \"Jean\"\n",
    "print(names)"
   ]
  },
  {
   "cell_type": "code",
   "execution_count": 19,
   "metadata": {},
   "outputs": [
    {
     "name": "stdout",
     "output_type": "stream",
     "text": [
      "[1, 13, 7, 23, 6, 234]\n",
      "[1, 13, 7, 23, 6]\n"
     ]
    }
   ],
   "source": [
    "sayilar = [1, 13, 7]\n",
    "sayilar.append(23) #adds to the end\n",
    "sayilar.append(6)\n",
    "sayilar.append(234)\n",
    "print(sayilar)\n",
    "sayilar.pop() #removes last element\n",
    "print(sayilar)\n"
   ]
  },
  {
   "cell_type": "code",
   "execution_count": 27,
   "metadata": {},
   "outputs": [
    {
     "name": "stdout",
     "output_type": "stream",
     "text": [
      "[22, 21, 43, 27, 21, 32]\n"
     ]
    }
   ],
   "source": [
    "import random\n",
    "sayilar = []\n",
    "for i in range(0,6):\n",
    "    sayilar.append(random.randint(1,49))\n",
    "print(sayilar)"
   ]
  },
  {
   "cell_type": "code",
   "execution_count": 7,
   "metadata": {},
   "outputs": [
    {
     "name": "stdout",
     "output_type": "stream",
     "text": [
      "['A', 'T', 'A', 'L', 'A', 'Y']\n",
      "ATALAY\n"
     ]
    }
   ],
   "source": [
    "harf_listesi = ['A', 'T', 'A', 'L', 'A', 'Y']\n",
    "print(harf_listesi)\n",
    "print(\"\".join(harf_listesi))"
   ]
  },
  {
   "cell_type": "code",
   "execution_count": 30,
   "metadata": {},
   "outputs": [
    {
     "name": "stdout",
     "output_type": "stream",
     "text": [
      "True\n",
      "listede var\n"
     ]
    }
   ],
   "source": [
    "sayilar = [12, 6, 23, 8, 17, 59]\n",
    "\n",
    "print(6 in sayilar)\n",
    "\n",
    "if (6 in sayilar):\n",
    "    print(\"listede var\")\n",
    "else:\n",
    "    print(\"listede yok\")"
   ]
  },
  {
   "cell_type": "code",
   "execution_count": 35,
   "metadata": {},
   "outputs": [
    {
     "name": "stdout",
     "output_type": "stream",
     "text": [
      "[15]\n",
      "[66, 74, 38, 49]\n",
      "[12, 24, 13]\n"
     ]
    }
   ],
   "source": [
    "liste = [12, 24, 13, 4, 15, 66, 74, 38, 49]\n",
    "print(liste[4:5])\n",
    "print(liste[5:])\n",
    "print(liste[:3])\n"
   ]
  },
  {
   "cell_type": "code",
   "execution_count": 36,
   "metadata": {},
   "outputs": [
    {
     "data": {
      "text/plain": [
       "[1, 2, 4, 'a', 'b', 'c']"
      ]
     },
     "execution_count": 36,
     "metadata": {},
     "output_type": "execute_result"
    }
   ],
   "source": [
    "#Concatenation\n",
    "[1, 2, 4] + [\"a\", \"b\", \"c\"]\n"
   ]
  },
  {
   "cell_type": "code",
   "execution_count": 37,
   "metadata": {},
   "outputs": [
    {
     "name": "stdout",
     "output_type": "stream",
     "text": [
      "[1, 4, 6, 7, 2, 5]\n"
     ]
    }
   ],
   "source": [
    "list_1 = [1, 4, 6]\n",
    "list_2 = [7, 2, 5]\n",
    "list_u = list_1 + list_2\n",
    "print(list_u)"
   ]
  },
  {
   "cell_type": "code",
   "execution_count": 31,
   "metadata": {},
   "outputs": [
    {
     "name": "stdout",
     "output_type": "stream",
     "text": [
      "Adınızı 2 saniyede girdiniz\n",
      "2.0110721588134766\n"
     ]
    }
   ],
   "source": [
    "import time\n",
    "time.sleep(5)\n",
    "print(\"5 saniye içinde yarışma başlayacaktır\")\n",
    "start = time.time()\n",
    "ad = input(\"Lütfen adınızı giriniz:\")\n",
    "end = time.time()\n",
    "total_time = end - start\n",
    "print(\"Adınızı\", round(total_time), \"saniyede girdiniz\")\n",
    "print(total_time)"
   ]
  },
  {
   "cell_type": "code",
   "execution_count": 32,
   "metadata": {},
   "outputs": [
    {
     "name": "stdout",
     "output_type": "stream",
     "text": [
      "<class 'float'>\n",
      "<class 'int'>\n",
      "<class 'int'>\n"
     ]
    }
   ],
   "source": [
    "sayi = 6.7\n",
    "print(type(sayi))\n",
    "print(type(round(sayi))) # int yapıyor\n",
    "print(type(int(sayi))) "
   ]
  },
  {
   "cell_type": "code",
   "execution_count": 11,
   "metadata": {},
   "outputs": [
    {
     "name": "stdout",
     "output_type": "stream",
     "text": [
      "3\n"
     ]
    }
   ],
   "source": [
    "x = 3\n",
    "y = x\n",
    "x = 5\n",
    "print(y)"
   ]
  },
  {
   "cell_type": "code",
   "execution_count": 38,
   "metadata": {},
   "outputs": [
    {
     "name": "stdout",
     "output_type": "stream",
     "text": [
      "[1, 2, 3, 4]\n",
      "['a', 2, 3, 4]\n"
     ]
    }
   ],
   "source": [
    "# List References\n",
    "list_1 = [1, 2, 3]\n",
    "list_2 = list_1\n",
    "list_2.append(4)\n",
    "print(list_1)\n",
    "list_1[0] = \"a\"\n",
    "print(list_2)"
   ]
  },
  {
   "cell_type": "code",
   "execution_count": 13,
   "metadata": {
    "scrolled": true
   },
   "outputs": [
    {
     "name": "stdout",
     "output_type": "stream",
     "text": [
      "[96, 35, 29]\n"
     ]
    }
   ],
   "source": [
    "import random\n",
    "liste = []\n",
    "index = int(input(\"İlk kaç sayıyı görmek istiyorsun?\"))\n",
    "\n",
    "for i in range(0,10):\n",
    "    liste.append(random.randint(1,100))\n",
    "    \n",
    "#for i in range(0,index):\n",
    "#    print(liste[i])\n",
    "    \n",
    "print(liste[0:index])"
   ]
  },
  {
   "cell_type": "code",
   "execution_count": 14,
   "metadata": {},
   "outputs": [
    {
     "name": "stdout",
     "output_type": "stream",
     "text": [
      "[-7, 0, 32, 41, 53, 86, 176]\n",
      "[176, 86, 53, 41, 32, 0, -7]\n"
     ]
    }
   ],
   "source": [
    "# Listelerde sıralama\n",
    "list = [32, 41, -7, 86, 176, 0, 53]\n",
    "list.sort()\n",
    "print(list) # Orjinal listeyi değiştiriyor. Yeni listeye atamaya gerek yok!\n",
    "list.sort(reverse = True)\n",
    "print(list)"
   ]
  },
  {
   "cell_type": "code",
   "execution_count": 42,
   "metadata": {},
   "outputs": [
    {
     "name": "stdout",
     "output_type": "stream",
     "text": [
      "[5, 6, 7]\n",
      "['a', 'b', 'c']\n",
      "[1, 2, 3, 4, 'a', 'b', 'c', 8, 9, 0]\n"
     ]
    }
   ],
   "source": [
    "# assign slices of a list\n",
    "list = [1, 2, 3, 4, 5, 6, 7, 8, 9, 0]\n",
    "print(list[4:7])\n",
    "list[4:7] = [\"a\", \"b\", \"c\"]\n",
    "print(list[4:7])\n",
    "print(list)\n"
   ]
  }
 ],
 "metadata": {
  "kernelspec": {
   "display_name": "Python 3",
   "language": "python",
   "name": "python3"
  },
  "language_info": {
   "codemirror_mode": {
    "name": "ipython",
    "version": 3
   },
   "file_extension": ".py",
   "mimetype": "text/x-python",
   "name": "python",
   "nbconvert_exporter": "python",
   "pygments_lexer": "ipython3",
   "version": "3.9.7"
  }
 },
 "nbformat": 4,
 "nbformat_minor": 4
}
