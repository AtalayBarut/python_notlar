{
 "cells": [
  {
   "cell_type": "code",
   "execution_count": 1,
   "metadata": {},
   "outputs": [
    {
     "name": "stdout",
     "output_type": "stream",
     "text": [
      "Çok satırlı örnek\n"
     ]
    }
   ],
   "source": [
    "ad = \"\"\"Çok satırlı örnek\"\"\"\n",
    "print(ad)"
   ]
  },
  {
   "cell_type": "code",
   "execution_count": 2,
   "metadata": {},
   "outputs": [
    {
     "name": "stdout",
     "output_type": "stream",
     "text": [
      "Çok\n",
      "satırlı\n",
      "örnek\n"
     ]
    }
   ],
   "source": [
    "ad = \"Çok\\nsatırlı\\nörnek\"\n",
    "print(ad)"
   ]
  },
  {
   "cell_type": "code",
   "execution_count": 4,
   "metadata": {},
   "outputs": [
    {
     "name": "stdout",
     "output_type": "stream",
     "text": [
      "Ali Baba ve haramiler haramiler haramiler haramiler haramiler haramiler haramiler haramiler haramiler haramiler haramiler haramiler haramiler haramiler haramiler haramiler haramiler haramiler haramiler haramiler haramiler haramiler haramiler haramiler haramiler haramiler haramiler haramiler haramiler haramiler haramiler haramiler haramiler haramiler haramiler haramiler haramiler haramiler haramiler haramiler \n"
     ]
    }
   ],
   "source": [
    "print(\"Ali Baba ve\", \"haramiler \"*40)"
   ]
  },
  {
   "cell_type": "code",
   "execution_count": 22,
   "metadata": {},
   "outputs": [
    {
     "name": "stdout",
     "output_type": "stream",
     "text": [
      "I Love Python \n",
      "I Love Python\n"
     ]
    }
   ],
   "source": [
    "print(\"I \" + \"Love \" + \"Python \")\n",
    "print(\"I\", \"Love\", \"Python\")  # Otomatik boşluk koyar"
   ]
  },
  {
   "cell_type": "code",
   "execution_count": 21,
   "metadata": {},
   "outputs": [
    {
     "name": "stdout",
     "output_type": "stream",
     "text": [
      "B\n",
      "s\n"
     ]
    }
   ],
   "source": [
    "name = \"Le Bron James\"\n",
    "print(name[3])  # ilk indis 0'dan başlar\n",
    "print(name[-1])  # Son karakteri verir. Tersten gidiyor."
   ]
  },
  {
   "cell_type": "code",
   "execution_count": 10,
   "metadata": {},
   "outputs": [
    {
     "name": "stdout",
     "output_type": "stream",
     "text": [
      "şam\n"
     ]
    }
   ],
   "source": [
    "ifade = \"Sakin ol şampiyon\"\n",
    "print(ifade[9:12])"
   ]
  },
  {
   "cell_type": "code",
   "execution_count": 15,
   "metadata": {},
   "outputs": [
    {
     "name": "stdout",
     "output_type": "stream",
     "text": [
      "Atalay Barut\n"
     ]
    }
   ],
   "source": [
    "isim = \"AtalayBarut\"\n",
    "print(isim[0:6], isim[6:]) "
   ]
  },
  {
   "cell_type": "code",
   "execution_count": 23,
   "metadata": {},
   "outputs": [
    {
     "data": {
      "text/plain": [
       "'A man, a plan, a canal: Panama'"
      ]
     },
     "execution_count": 23,
     "metadata": {},
     "output_type": "execute_result"
    }
   ],
   "source": [
    "\"A man, a plan, a canal: Panama.\"[:-1] #Baştan son karaktere kadar"
   ]
  },
  {
   "cell_type": "code",
   "execution_count": 24,
   "metadata": {},
   "outputs": [
    {
     "data": {
      "text/plain": [
       "'9'"
      ]
     },
     "execution_count": 24,
     "metadata": {},
     "output_type": "execute_result"
    }
   ],
   "source": [
    "\"[8, 9, 10]\"[4]"
   ]
  },
  {
   "cell_type": "code",
   "execution_count": 30,
   "metadata": {},
   "outputs": [
    {
     "name": "stdout",
     "output_type": "stream",
     "text": [
      "2\n",
      "8\n",
      "-1\n"
     ]
    }
   ],
   "source": [
    "ad = \"Atalay Barut\"\n",
    "print(ad.find(\"a\")) #Baştan ilk bulduğunun index ini döndürür\n",
    "print(ad.find(\"a\", 5)) # 5'inci indexten sonraki ilk a'yı bulur\n",
    "print(ad.find(\"m\")) #Bu metod bulamazsa -1 döndürür\n",
    "#print(ad.index(\"m\")) #Bu metod bulamazsa hata döndürüyor o yüzden find daha iyi"
   ]
  },
  {
   "cell_type": "code",
   "execution_count": 31,
   "metadata": {},
   "outputs": [
    {
     "name": "stdout",
     "output_type": "stream",
     "text": [
      "7\n",
      "9\n"
     ]
    }
   ],
   "source": [
    "isim = \"Haluk Levet\"\n",
    "n = isim.find(\"e\")\n",
    "print(n)\n",
    "print(isim.find(\"e\", (n+1))) #İkinci e'yi bulmak için"
   ]
  },
  {
   "cell_type": "code",
   "execution_count": 33,
   "metadata": {},
   "outputs": [
    {
     "name": "stdout",
     "output_type": "stream",
     "text": [
      "Atalay\n",
      "Barut\n"
     ]
    }
   ],
   "source": [
    "ad5=input(\"Ad Soyad Giriniz:\")\n",
    "bosluk = ad5.find(\" \")\n",
    "print(ad5[0:bosluk])\n",
    "print(ad5[(bosluk+1):])"
   ]
  },
  {
   "cell_type": "code",
   "execution_count": 55,
   "metadata": {},
   "outputs": [
    {
     "name": "stdout",
     "output_type": "stream",
     "text": [
      "Atalay\n"
     ]
    }
   ],
   "source": [
    "ad = \"atalay\"\n",
    "print(ad.capitalize())"
   ]
  },
  {
   "cell_type": "code",
   "execution_count": 56,
   "metadata": {},
   "outputs": [
    {
     "name": "stdout",
     "output_type": "stream",
     "text": [
      "ORMAN\n"
     ]
    }
   ],
   "source": [
    "kelime = \"orman\"\n",
    "print(kelime.upper())"
   ]
  },
  {
   "cell_type": "code",
   "execution_count": 36,
   "metadata": {},
   "outputs": [
    {
     "name": "stdout",
     "output_type": "stream",
     "text": [
      "INCIR\n",
      "İNCİR\n",
      "İNCİR\n"
     ]
    }
   ],
   "source": [
    "kelime = \"incir\"\n",
    "print(kelime.upper())\n",
    "print(kelime.replace(\"i\", \"İ\").upper())  # !!\n",
    "print(kelime.upper().replace(\"I\", \"İ\")) # böyle de olur\n"
   ]
  },
  {
   "cell_type": "code",
   "execution_count": 38,
   "metadata": {},
   "outputs": [
    {
     "data": {
      "text/plain": [
       "'Champion'"
      ]
     },
     "execution_count": 38,
     "metadata": {},
     "output_type": "execute_result"
    }
   ],
   "source": [
    "\"Championship\".strip(\"ship\")"
   ]
  },
  {
   "cell_type": "code",
   "execution_count": 53,
   "metadata": {},
   "outputs": [
    {
     "data": {
      "text/plain": [
       "'John Doe'"
      ]
     },
     "execution_count": 53,
     "metadata": {},
     "output_type": "execute_result"
    }
   ],
   "source": [
    "\" John Doe \".strip() # baştaki ve sonraki boşlukları atar"
   ]
  },
  {
   "cell_type": "code",
   "execution_count": 67,
   "metadata": {},
   "outputs": [
    {
     "data": {
      "text/plain": [
       "'epai'"
      ]
     },
     "execution_count": 67,
     "metadata": {},
     "output_type": "execute_result"
    }
   ],
   "source": [
    "\"repair\".strip(\"r\") # baştaki ve sondaki varsa \"r\" harflerini atar"
   ]
  },
  {
   "cell_type": "code",
   "execution_count": 59,
   "metadata": {},
   "outputs": [
    {
     "data": {
      "text/plain": [
       "'bora'"
      ]
     },
     "execution_count": 59,
     "metadata": {},
     "output_type": "execute_result"
    }
   ],
   "source": [
    "isim = \"    bora    \"\n",
    "isim.strip() #Boşluklardan kurtulmak için"
   ]
  },
  {
   "cell_type": "code",
   "execution_count": 60,
   "metadata": {},
   "outputs": [
    {
     "data": {
      "text/plain": [
       "'I ate some apple pie and it was yummy!'"
      ]
     },
     "execution_count": 60,
     "metadata": {},
     "output_type": "execute_result"
    }
   ],
   "source": [
    "pie = \"apple pie\"\n",
    "f\"I ate some {pie} and it was yummy!\" #pek kullanılmıyor"
   ]
  },
  {
   "cell_type": "code",
   "execution_count": 77,
   "metadata": {},
   "outputs": [
    {
     "name": "stdout",
     "output_type": "stream",
     "text": [
      "I love bananas\n"
     ]
    }
   ],
   "source": [
    "fruit = \"bananas\"\n",
    "print(\"I love {}\".format(fruit))"
   ]
  },
  {
   "cell_type": "code",
   "execution_count": 68,
   "metadata": {},
   "outputs": [
    {
     "name": "stdout",
     "output_type": "stream",
     "text": [
      "Cümlenin uzunluğu 33 karakterdir\n",
      "Cümlenin uzunluğu 33 karakterdir\n",
      "Cümlenin uzunluğu 33 karakterdir\n",
      "Cümlenin uzunluğu 33 karakterdir\n"
     ]
    }
   ],
   "source": [
    "cumle = \"bu cümlenin uzunluğu nedir acaba?\"\n",
    "print(\"Cümlenin uzunluğu {} karakterdir\".format(len(cumle)))\n",
    "\n",
    "chars = len(cumle)\n",
    "print(f\"Cümlenin uzunluğu {chars} karakterdir\")\n",
    "\n",
    "print(\"Cümlenin uzunluğu\", len(cumle), \"karakterdir\")\n",
    "print(\"Cümlenin uzunluğu\", chars, \"karakterdir\")\n"
   ]
  },
  {
   "cell_type": "code",
   "execution_count": 81,
   "metadata": {},
   "outputs": [
    {
     "name": "stdout",
     "output_type": "stream",
     "text": [
      "In 10 years, I'll be 45\n",
      "In 10 years, I'll be 45\n"
     ]
    }
   ],
   "source": [
    "age = 45\n",
    "years = 10\n",
    "string = \"In {} years, I'll be {}\"\n",
    "print(string.format(years, age))\n",
    "print(\"In\", years, \"years, I'll be\", age) #Bu da olur"
   ]
  },
  {
   "cell_type": "code",
   "execution_count": 69,
   "metadata": {
    "scrolled": true
   },
   "outputs": [
    {
     "name": "stdout",
     "output_type": "stream",
     "text": [
      "Collecting unicode_tr\n",
      "  Downloading unicode_tr-0.6.1.tar.gz (1.1 kB)\n",
      "Building wheels for collected packages: unicode-tr\n",
      "  Building wheel for unicode-tr (setup.py) ... \u001b[?25ldone\n",
      "\u001b[?25h  Created wheel for unicode-tr: filename=unicode_tr-0.6.1-py3-none-any.whl size=2083 sha256=d842b4da32b09269d6f38dfee718bd43b81e620e112ad3f0398bbb5260f806e1\n",
      "  Stored in directory: /Users/atalaybarut/Library/Caches/pip/wheels/d0/cc/f8/f319bd1041bbc1fd019698f4f9c5c001ce9da109a6c977113d\n",
      "Successfully built unicode-tr\n",
      "Installing collected packages: unicode-tr\n",
      "Successfully installed unicode-tr-0.6.1\n",
      "Note: you may need to restart the kernel to use updated packages.\n"
     ]
    }
   ],
   "source": [
    "pip install unicode_tr\n"
   ]
  },
  {
   "cell_type": "code",
   "execution_count": 8,
   "metadata": {
    "scrolled": false
   },
   "outputs": [
    {
     "name": "stdout",
     "output_type": "stream",
     "text": [
      "istanbul\n",
      "ISTANBUL\n"
     ]
    }
   ],
   "source": [
    "from unicode_tr import unicode_tr\n",
    "text_true = unicode_tr(u\"istanbul\")\n",
    "#text_true = \"istanbul\"\n",
    "print(text_true)\n",
    "print(text_true.upper())"
   ]
  },
  {
   "cell_type": "code",
   "execution_count": 12,
   "metadata": {},
   "outputs": [
    {
     "name": "stdout",
     "output_type": "stream",
     "text": [
      "atalay barut\n",
      "Atalay Barut\n"
     ]
    }
   ],
   "source": [
    "from unicode_tr import unicode_tr\n",
    "name_surname = input()\n",
    "print(name_surname)\n",
    "text_true = unicode_tr(name_surname)\n",
    "print(text_true.title())\n"
   ]
  },
  {
   "cell_type": "code",
   "execution_count": 6,
   "metadata": {},
   "outputs": [
    {
     "name": "stdout",
     "output_type": "stream",
     "text": [
      "Cümle: bir berber bir berbere \"hey bre berber, gel beraber bir berber dükkanı açalım\" demiş\n",
      "Sayılacak kelime: berber\n",
      ">>Cümle içinde berber kelimesinden 4 kere vardır\n"
     ]
    }
   ],
   "source": [
    "#finding occurrences\n",
    "\n",
    "cumle = input(\"Cümleyi yazınız:\")\n",
    "kelime = input(\"Sayılacak kelimeyi giriniz:\")\n",
    "\n",
    "cumle = cumle.lower().strip()\n",
    "kelime = kelime.lower().strip()\n",
    "\n",
    "print(\"Cümle:\", cumle)\n",
    "print(\"Sayılacak kelime:\", kelime)\n",
    "print(\">>Cümle içinde {} kelimesinden {} kere vardır\".format(kelime, cumle.count(kelime)))"
   ]
  },
  {
   "cell_type": "code",
   "execution_count": 14,
   "metadata": {},
   "outputs": [
    {
     "name": "stdout",
     "output_type": "stream",
     "text": [
      "izmir, izmir'de doğan izmirlilerin memleketi midir?\n",
      "izmir\n",
      "3\n"
     ]
    }
   ],
   "source": [
    "from unicode_tr import unicode_tr\n",
    "cumle = unicode_tr(input(\"Cümleyi yazınız:\"))\n",
    "kelime = unicode_tr(input(\"Sayılacak kelimeyi giriniz:\"))\n",
    "\n",
    "cumle = cumle.lower().strip()\n",
    "kelime = kelime.lower().strip()\n",
    "\n",
    "print(cumle)\n",
    "print(kelime)\n",
    "print(cumle.count(kelime))"
   ]
  },
  {
   "cell_type": "code",
   "execution_count": 1,
   "metadata": {},
   "outputs": [
    {
     "data": {
      "text/plain": [
       "'Hello'"
      ]
     },
     "execution_count": 1,
     "metadata": {},
     "output_type": "execute_result"
    }
   ],
   "source": [
    "\"HELLO\".capitalize()"
   ]
  },
  {
   "cell_type": "code",
   "execution_count": 3,
   "metadata": {},
   "outputs": [
    {
     "data": {
      "text/plain": [
       "'hello'"
      ]
     },
     "execution_count": 3,
     "metadata": {},
     "output_type": "execute_result"
    }
   ],
   "source": [
    "\"HELLO\".lower()"
   ]
  },
  {
   "cell_type": "code",
   "execution_count": 6,
   "metadata": {},
   "outputs": [
    {
     "data": {
      "text/plain": [
       "'HELLO'"
      ]
     },
     "execution_count": 6,
     "metadata": {},
     "output_type": "execute_result"
    }
   ],
   "source": [
    "\"hello\".upper()"
   ]
  },
  {
   "cell_type": "code",
   "execution_count": 11,
   "metadata": {},
   "outputs": [
    {
     "name": "stdout",
     "output_type": "stream",
     "text": [
      "benim\n",
      "adım\n",
      "atalay\n"
     ]
    }
   ],
   "source": [
    "# Get a sentence from user and split it into its words\n",
    "sentence = input(\"Lütfen bir cümle giriniz:\")\n",
    "sentence = sentence.replace(\" \", \"\\n\")\n",
    "print(sentence)"
   ]
  },
  {
   "cell_type": "code",
   "execution_count": 14,
   "metadata": {},
   "outputs": [
    {
     "name": "stdout",
     "output_type": "stream",
     "text": [
      "MERTBARERT\n"
     ]
    }
   ],
   "source": [
    "# Ask the user to enter their first name.\n",
    "# If the length of their first name is under five characters, ask them to enter their surname and join them together (without a space) and display the name in upper case.\n",
    "# If the length of the first name is five or more characters, display their first name in lower case.\n",
    "\n",
    "name = input(\"Enter your first name:\")\n",
    "if (len(name) < 5):\n",
    "    surname = input(\"Enter your surname:\")\n",
    "    fullname = (name + surname).upper()\n",
    "    print(fullname)\n",
    "else:\n",
    "    print(name.lower())\n"
   ]
  },
  {
   "cell_type": "code",
   "execution_count": null,
   "metadata": {},
   "outputs": [],
   "source": [
    "# Using upper() + lower() + loop \n",
    "# Alternate cases in String \n",
    "test_str = \"geeksforgeeks\"\n",
    "res = \"\" \n",
    "for idx in range(len(test_str)): \n",
    "    if not idx % 2 : \n",
    "       res = res + test_str[idx].upper() \n",
    "    else: \n",
    "       res = res + test_str[idx].lower() \n",
    "print(test_str)\n",
    "print(res)"
   ]
  }
 ],
 "metadata": {
  "kernelspec": {
   "display_name": "Python 3",
   "language": "python",
   "name": "python3"
  },
  "language_info": {
   "codemirror_mode": {
    "name": "ipython",
    "version": 3
   },
   "file_extension": ".py",
   "mimetype": "text/x-python",
   "name": "python",
   "nbconvert_exporter": "python",
   "pygments_lexer": "ipython3",
   "version": "3.9.7"
  }
 },
 "nbformat": 4,
 "nbformat_minor": 4
}
