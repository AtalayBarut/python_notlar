{
 "cells": [
  {
   "cell_type": "code",
   "execution_count": 14,
   "metadata": {},
   "outputs": [
    {
     "name": "stdout",
     "output_type": "stream",
     "text": [
      "---------------\n",
      "hello hello hello hello hello \n",
      "---------------\n"
     ]
    }
   ],
   "source": [
    "print(\"---------------\")\n",
    "print(\"hello \"*5)\n",
    "print(\"---------------\")"
   ]
  },
  {
   "cell_type": "code",
   "execution_count": 15,
   "metadata": {},
   "outputs": [
    {
     "name": "stdout",
     "output_type": "stream",
     "text": [
      "Mc Donald's \"gibisi\" yok!\n"
     ]
    }
   ],
   "source": [
    "print(\"\"\"Mc Donald's \"gibisi\" yok!\"\"\")"
   ]
  },
  {
   "cell_type": "code",
   "execution_count": 16,
   "metadata": {},
   "outputs": [
    {
     "name": "stdout",
     "output_type": "stream",
     "text": [
      "programa geçirilien parametre:  -f\n"
     ]
    }
   ],
   "source": [
    "# Programa parametre geçirme\n",
    "import sys\n",
    "print(\"programa geçirilien parametre: \", sys.argv[1])\n",
    "# Bizde yüklü olmadığı için yapamıyoruz!"
   ]
  },
  {
   "cell_type": "code",
   "execution_count": 17,
   "metadata": {
    "scrolled": true
   },
   "outputs": [
    {
     "name": "stdout",
     "output_type": "stream",
     "text": [
      "41\n",
      "<class 'int'>\n",
      "<class 'float'>\n"
     ]
    }
   ],
   "source": [
    "# integer değişken tanımlama\n",
    "sayi = 41\n",
    "sayi2= 13.5\n",
    "print(sayi)\n",
    "print(type(sayi))\n",
    "print(type(sayi2))"
   ]
  },
  {
   "cell_type": "code",
   "execution_count": 18,
   "metadata": {},
   "outputs": [
    {
     "data": {
      "text/plain": [
       "str"
      ]
     },
     "execution_count": 18,
     "metadata": {},
     "output_type": "execute_result"
    }
   ],
   "source": [
    "# String değişken tipi\n",
    "ad = \"samet\"\n",
    "type (ad)"
   ]
  },
  {
   "cell_type": "code",
   "execution_count": 19,
   "metadata": {},
   "outputs": [
    {
     "name": "stdout",
     "output_type": "stream",
     "text": [
      "5.0\n",
      "3\n",
      "<class 'float'>\n",
      "<class 'int'>\n"
     ]
    },
    {
     "data": {
      "text/plain": [
       "str"
      ]
     },
     "execution_count": 19,
     "metadata": {},
     "output_type": "execute_result"
    }
   ],
   "source": [
    "sayi1 = 10\n",
    "sayi2 = 2\n",
    "sayi3 = 3\n",
    "sonuc = sayi1/sayi2\n",
    "sonuc2 = sayi1//sayi3 #Bölüm sonucunu tam sayıya yuvarlar\n",
    "print(sonuc)\n",
    "print(sonuc2)\n",
    "print(type(sonuc))\n",
    "print(type(sonuc2))\n",
    "type(\"Atalay\")"
   ]
  },
  {
   "cell_type": "code",
   "execution_count": 20,
   "metadata": {},
   "outputs": [
    {
     "name": "stdout",
     "output_type": "stream",
     "text": [
      "Ad:  Atalay\n"
     ]
    }
   ],
   "source": [
    "# kullanıcıdan parametre alma\n",
    "\n",
    "ad = input (\"Ad giriniz: \")\n",
    "print(\"Ad: \", ad)"
   ]
  },
  {
   "cell_type": "code",
   "execution_count": 23,
   "metadata": {},
   "outputs": [
    {
     "name": "stdout",
     "output_type": "stream",
     "text": [
      "Your name is Atalay Your hobbies are movies, music, games\n"
     ]
    }
   ],
   "source": [
    "name, hobbies = input(\"What is your name? \"), input(\"What are your hobbies? \")\n",
    "print(\"Your name is\", name, \"Your hobbies are\", hobbies)"
   ]
  },
  {
   "cell_type": "code",
   "execution_count": 22,
   "metadata": {},
   "outputs": [
    {
     "name": "stdout",
     "output_type": "stream",
     "text": [
      "Girilen sayının iki katı:  4\n"
     ]
    }
   ],
   "source": [
    "# type conversion\n",
    "# kullanıcının girdiği sayıyı alıp iki katını ekrana yazdıran bir program yazalım\n",
    "\n",
    "sayi = int(input(\"sayi giriniz: \"))  # tip  dönüşümü - integer olarak alıyor\n",
    "print(\"Girilen sayının iki katı: \", sayi*2)\n",
    "\n",
    "sayi = input(\"\\nsayi giriniz: \")  # string olarak alır\n",
    "print(\"Girilen sayının iki katı: \", sayi*2)\n"
   ]
  },
  {
   "cell_type": "code",
   "execution_count": 32,
   "metadata": {},
   "outputs": [
    {
     "name": "stdout",
     "output_type": "stream",
     "text": [
      "Ödemeniz gereken tutar 106\n",
      "<class 'int'>\n"
     ]
    }
   ],
   "source": [
    "#Ask for the total price of the bill, then ask how many diners there are. \n",
    "#Divide the total bill by the number of diners and show how much each person must pay.\n",
    "bill = int(input(\"Toplam hesap ne tuttu?\"))\n",
    "people = int(input(\"Toplam kaç kişiydiniz?\"))\n",
    "billByPerson = int(bill / people) #yuvarlar\n",
    "print(\"Ödemeniz gereken tutar\", billByPerson)\n",
    "print(type(billByPerson))"
   ]
  },
  {
   "cell_type": "code",
   "execution_count": 26,
   "metadata": {},
   "outputs": [
    {
     "name": "stdout",
     "output_type": "stream",
     "text": [
      "3.5\n",
      "3\n",
      "Atalay-BARUT\n",
      "Atalay 35\n"
     ]
    }
   ],
   "source": [
    "#bölme\n",
    "sayi = 7\n",
    "print(sayi/2)\n",
    "print(sayi//2)\n",
    "\n",
    "#string birleştirme\n",
    "ad = \"Atalay\"\n",
    "soyad = \"BARUT\"\n",
    "print(ad+\"-\"+soyad)\n",
    "\n",
    "#ad boşluk yaş yazdırmak istiyorum\n",
    "ad = \"Atalay\"\n",
    "yas = 35\n",
    "#print(ad+\" \"+ yas) integer olduğu için concat de hata verir\n",
    "print(ad +\" \"+ str(yas))"
   ]
  },
  {
   "cell_type": "code",
   "execution_count": 33,
   "metadata": {},
   "outputs": [
    {
     "name": "stdout",
     "output_type": "stream",
     "text": [
      "12\n",
      "21\n",
      "46\n",
      "Atalay\n",
      "12 21 46 Atalay\n"
     ]
    }
   ],
   "source": [
    "# multiple assignment - çoklu atama\n",
    "a, b, c, name = 12, 21, 46, \"Atalay\"\n",
    "print(a)\n",
    "print(b)\n",
    "print(c)\n",
    "print(name)\n",
    "print(a, b, c, name)\n"
   ]
  },
  {
   "cell_type": "code",
   "execution_count": 34,
   "metadata": {},
   "outputs": [
    {
     "name": "stdout",
     "output_type": "stream",
     "text": [
      "aracın hızı:  75.0 km/h\n",
      "aracın hızı:  46.875 mil/h\n",
      "aracın hızı:  20.833333333333332 m/sn\n"
     ]
    }
   ],
   "source": [
    "# Program mesafe km zaman h olarak verilecek. Hız da km/h, mil/h, m/sn olacak.\n",
    "\n",
    "mesafe_km = 150\n",
    "h = 2\n",
    "print(\"aracın hızı: \", mesafe_km/h, \"km/h\")\n",
    "print(\"aracın hızı: \", mesafe_km/1.6/h, \"mil/h\")\n",
    "print(\"aracın hızı: \", (mesafe_km*1000)/(h*3600), \"m/sn\")\n"
   ]
  },
  {
   "cell_type": "code",
   "execution_count": 41,
   "metadata": {},
   "outputs": [
    {
     "name": "stdout",
     "output_type": "stream",
     "text": [
      "43.96\n",
      "153.86\n",
      "Çevre:  43.96 \n",
      "Alan: 153.86\n"
     ]
    }
   ],
   "source": [
    "# Yarıçapı 7 olan çemberin çevresini bulalım\n",
    "PI_SAYISI = 3.14\n",
    "r = 7\n",
    "cevre = 2*PI_SAYISI*r\n",
    "alan = PI_SAYISI * pow(r,2)\n",
    "print(cevre)\n",
    "print(alan)\n",
    "print(\"Çevre: \", cevre, \"\\nAlan:\", alan)\n"
   ]
  },
  {
   "cell_type": "code",
   "execution_count": 1,
   "metadata": {},
   "outputs": [
    {
     "name": "stdout",
     "output_type": "stream",
     "text": [
      "25 nın karekökü: 5.0\n"
     ]
    }
   ],
   "source": [
    "#karekök bulma\n",
    "import math\n",
    "\n",
    "sayi = int(input(\"Karekökü bulunacak sayıyı giriniz:\")) #Integer a çevirmessen hata veriyor\n",
    "print(sayi,\"nın karekökü:\", math.sqrt(sayi))"
   ]
  },
  {
   "cell_type": "code",
   "execution_count": 2,
   "metadata": {},
   "outputs": [
    {
     "name": "stdout",
     "output_type": "stream",
     "text": [
      "Evde kal\n"
     ]
    }
   ],
   "source": [
    "# Kullanıcıdan günlük Corona vefat sayısını isteyin. 50'den büyükse \"Evde kal\", küçükse \"Corona bitiyor\" yazsın.\n",
    "\n",
    "gunluk_vefat_sayisi = int(input(\"Günlük vefat sayısını giriniz:\")) #Type conversion gereklidir \n",
    "if(gunluk_vefat_sayisi < 50):\n",
    "    print(\"Corona bitiyor\")\n",
    "else:\n",
    "    print(\"Evde kal\")\n"
   ]
  },
  {
   "cell_type": "code",
   "execution_count": 3,
   "metadata": {},
   "outputs": [
    {
     "name": "stdout",
     "output_type": "stream",
     "text": [
      "Corona bitiyor\n"
     ]
    }
   ],
   "source": [
    "gunluk_vefat_sayisi = int(input(\"Günlük vefat sayısını giriniz:\")) \n",
    "if(gunluk_vefat_sayisi < 10):\n",
    "    print(\"Corona bitti\")\n",
    "elif(10 < gunluk_vefat_sayisi < 50):\n",
    "    print(\"Corona bitiyor\")\n",
    "else:\n",
    "    print(\"Evde kal\")"
   ]
  },
  {
   "cell_type": "code",
   "execution_count": 4,
   "metadata": {},
   "outputs": [
    {
     "name": "stdout",
     "output_type": "stream",
     "text": [
      "Greater than\n",
      "10\n"
     ]
    }
   ],
   "source": [
    "if 5 > 2:\n",
    "    print(\"Greater than\")\n",
    "    x = 5\n",
    "    print(x * 2) \n",
    "else:\n",
    "    print(\"Less than\")\n",
    "    print(2)"
   ]
  },
  {
   "cell_type": "code",
   "execution_count": 9,
   "metadata": {},
   "outputs": [
    {
     "name": "stdout",
     "output_type": "stream",
     "text": [
      "Girdiğiniz değer bir sayı değil!\n"
     ]
    }
   ],
   "source": [
    "sayi = \"test\"\n",
    "if(isinstance(sayi, str)):\n",
    "    print(\"Girdiğiniz değer bir sayı değil!\")"
   ]
  },
  {
   "cell_type": "code",
   "execution_count": 10,
   "metadata": {},
   "outputs": [
    {
     "name": "stdout",
     "output_type": "stream",
     "text": [
      "----------------------------------------\n",
      "1 2\n",
      "2 4\n",
      "3 6\n",
      "4 8\n",
      "5 10\n",
      "6 12\n",
      "7 14\n",
      "8 16\n",
      "9 18\n",
      "10 20\n",
      "----------------------------------------\n"
     ]
    }
   ],
   "source": [
    "# Kullanıcıdan sayı iste. 1'den 10'a kadar çarpımlarını yaz.\n",
    "sayi = int(input(\"Bir sayı giriniz:\"))\n",
    "print(\"-\"*40)\n",
    "for i in range(1,11):\n",
    "    print(i,sayi * i)\n",
    "print(\"-\"*40)"
   ]
  },
  {
   "cell_type": "code",
   "execution_count": 11,
   "metadata": {},
   "outputs": [
    {
     "name": "stdout",
     "output_type": "stream",
     "text": [
      "0b100101100\n"
     ]
    }
   ],
   "source": [
    "print(bin(300)) #binary değeri veriyor"
   ]
  },
  {
   "cell_type": "code",
   "execution_count": 15,
   "metadata": {},
   "outputs": [
    {
     "name": "stdout",
     "output_type": "stream",
     "text": [
      "Yıl: 1 \n",
      "Hafta: 36 \n",
      "Gün: 3\n"
     ]
    }
   ],
   "source": [
    "# Write a script that takes user input as days and converts the days into years, weeks, and days, and then prints them out.\n",
    "\n",
    "gun_sayisi = int(input(\"Gün sayısı giriniz:\"))\n",
    "\n",
    "yil = gun_sayisi // 365  # \"//\" operatörünü kullanınca yuvarlanmış integer değeri döndürür\n",
    "#yildan_kalan_gun = gun_sayisi - (yil*365)\n",
    "yildan_kalan_gun = gun_sayisi % 365\n",
    "\n",
    "hafta = yildan_kalan_gun // 7\n",
    "#gun = yildan_kalan_gun - (hafta*7)\n",
    "gun = yildan_kalan_gun % 7\n",
    "\n",
    "print(\"Yıl:\", yil, \"\\nHafta:\", hafta, \"\\nGün:\", gun)\n"
   ]
  },
  {
   "cell_type": "code",
   "execution_count": null,
   "metadata": {},
   "outputs": [],
   "source": [
    "sayi = 0\n",
    "while sayi < 5:\n",
    "    print(\"Atalay\")\n",
    "    sayi += 1"
   ]
  },
  {
   "cell_type": "code",
   "execution_count": 16,
   "metadata": {},
   "outputs": [
    {
     "name": "stdout",
     "output_type": "stream",
     "text": [
      " *  *  *  *  * \n",
      " *  *  *  *  * \n",
      " *  *  *  *  * \n",
      " *  *  *  *  * \n",
      " *  *  *  *  * \n",
      "-------------\n",
      " *   *   *   *   *  \n",
      " *   *   *   *   *  \n",
      " *   *   *   *   *  \n",
      " *   *   *   *   *  \n",
      "*\n",
      "*\n",
      "*\n",
      "*\n",
      "*\n",
      "\n"
     ]
    }
   ],
   "source": [
    "#for x in range(1,6):\n",
    "for y in range(1,6):\n",
    "    print(\" * \"*5)\n",
    "\n",
    "print(\"-------------\")\n",
    "\n",
    "for x in range(1,6):\n",
    "    for z in range(1,6):\n",
    "        if(x==5):\n",
    "            print(\"*\")\n",
    "        else:\n",
    "            print(\" * \", end=\" \")\n",
    "    print() #boş satır koyar"
   ]
  }
 ],
 "metadata": {
  "kernelspec": {
   "display_name": "Python 3",
   "language": "python",
   "name": "python3"
  },
  "language_info": {
   "codemirror_mode": {
    "name": "ipython",
    "version": 3
   },
   "file_extension": ".py",
   "mimetype": "text/x-python",
   "name": "python",
   "nbconvert_exporter": "python",
   "pygments_lexer": "ipython3",
   "version": "3.9.7"
  }
 },
 "nbformat": 4,
 "nbformat_minor": 4
}
