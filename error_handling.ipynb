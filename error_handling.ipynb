{
 "cells": [
  {
   "cell_type": "code",
   "execution_count": 6,
   "metadata": {},
   "outputs": [
    {
     "name": "stdout",
     "output_type": "stream",
     "text": [
      "Dosya bulunamadı\n",
      "Hatayı yakaladık. Devam edelim.\n"
     ]
    }
   ],
   "source": [
    "try:\n",
    "    with open(\"olmayan_dosya.txt\", \"r\") as f:\n",
    "        for satir in f:\n",
    "            print(satir)\n",
    "            \n",
    "except FileNotFoundError:\n",
    "    print(\"Dosya bulunamadı\")\n",
    "    \n",
    "print(\"Hatayı yakaladık. Devam edelim.\")\n"
   ]
  },
  {
   "cell_type": "code",
   "execution_count": 10,
   "metadata": {},
   "outputs": [
    {
     "name": "stdout",
     "output_type": "stream",
     "text": [
      "Sıfıra bölme hatası\n",
      "Devam edelim\n"
     ]
    }
   ],
   "source": [
    "try:\n",
    "    import bora\n",
    "    sonuc = 4/0\n",
    "    with open(\"myfile5.txt\", \"r\") as f:\n",
    "        for satir in f:\n",
    "            print(satir)\n",
    "            \n",
    "except FileNotFoundError:\n",
    "    print('Dosyayı bulamadım.')\n",
    "except ZeroDivisionError:\n",
    "    print(\"Sıfıra bölme hatası\")\n",
    "except Exception:\n",
    "    print(\"Bir hata oldu, ama ne olduğunu biz de bilmiyoruz\")\n",
    "finally:\n",
    "    print(\"En son ben çalışırım. Hataya düşsen de, düşmesen de!\")\n",
    "\n",
    "print(\"Devam edelim\")"
   ]
  },
  {
   "cell_type": "code",
   "execution_count": null,
   "metadata": {},
   "outputs": [],
   "source": []
  }
 ],
 "metadata": {
  "kernelspec": {
   "display_name": "Python 3",
   "language": "python",
   "name": "python3"
  },
  "language_info": {
   "codemirror_mode": {
    "name": "ipython",
    "version": 3
   },
   "file_extension": ".py",
   "mimetype": "text/x-python",
   "name": "python",
   "nbconvert_exporter": "python",
   "pygments_lexer": "ipython3",
   "version": "3.7.6"
  }
 },
 "nbformat": 4,
 "nbformat_minor": 4
}
