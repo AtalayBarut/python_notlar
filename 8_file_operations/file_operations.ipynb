{
 "cells": [
  {
   "cell_type": "code",
   "execution_count": 3,
   "metadata": {},
   "outputs": [],
   "source": [
    "# Exercise 48 \n",
    "\n",
    "# Dosya yazma\n",
    "\n",
    "f = open(\"myfile.txt\", \"w\")\n",
    "\n",
    "f.write(\"Merhaba Dünya 2\")\n",
    "\n",
    "f.close()\n",
    "\n",
    "f = open(\"myfile.txt\", \"a\")\n",
    "\n",
    "f.write(\"\\nYeni satır\")\n",
    "\n",
    "f.close()"
   ]
  },
  {
   "cell_type": "code",
   "execution_count": 8,
   "metadata": {},
   "outputs": [
    {
     "name": "stdout",
     "output_type": "stream",
     "text": [
      "Merhaba Dünya 2\n",
      "Yeni satır\n"
     ]
    }
   ],
   "source": [
    "# Dosya okuma\n",
    "\n",
    "f = open(\"myfile.txt\", \"r+\")\n",
    "\n",
    "print(f.read())"
   ]
  },
  {
   "cell_type": "code",
   "execution_count": 7,
   "metadata": {},
   "outputs": [
    {
     "name": "stdout",
     "output_type": "stream",
     "text": [
      "Merhaba Dünya 2\n",
      "Yeni satır\n"
     ]
    }
   ],
   "source": [
    "with open(\"myfile.txt\", \"r\") as f:\n",
    "    icerik = f.read()\n",
    "\n",
    "print(icerik)"
   ]
  },
  {
   "cell_type": "code",
   "execution_count": 6,
   "metadata": {},
   "outputs": [
    {
     "name": "stdout",
     "output_type": "stream",
     "text": [
      "Merhaba Dünya 2\n",
      "\n",
      "Yeni satır\n"
     ]
    }
   ],
   "source": [
    "# satır satır okuma\n",
    "\n",
    "with open(\"myfile.txt\", \"r\") as f:\n",
    "    for satir in f:\n",
    "        print(satir)\n"
   ]
  },
  {
   "cell_type": "code",
   "execution_count": null,
   "metadata": {},
   "outputs": [],
   "source": [
    "# CSV okuma\n",
    "\n",
    "import csv\n",
    "\n",
    "with open('MOCK_DATA.csv', 'r') as f:\n",
    "    mock_data_reader = csv.reader(f)\n",
    "\n",
    "\n",
    "    satir_sayac = 1\n",
    "\n",
    "    for row in mock_data_reader:\n",
    "        if (satir_sayac > 1):\n",
    "            print(row)\n",
    "    \n",
    "        satir_sayac += 1"
   ]
  },
  {
   "cell_type": "code",
   "execution_count": 27,
   "metadata": {},
   "outputs": [
    {
     "name": "stdout",
     "output_type": "stream",
     "text": [
      "Amos\n",
      "1001\n",
      "6\n",
      "id\n",
      "first_name\n",
      "last_name\n",
      "email\n",
      "gender\n",
      "ip_address\n",
      "[1.0, 'Amos', 'Jantzen', 'ajantzen0@hubpages.com', 'Male', '70.50.23.159']\n",
      "id\n",
      "first_name\n",
      "last_name\n"
     ]
    }
   ],
   "source": [
    "# Excel okuma \"xlrd\" paketi anaconda ile birlikte geliyor\n",
    "\n",
    "import xlrd\n",
    "\n",
    "loc = \"MOCK_DATA.xlsx\"\n",
    "\n",
    "wb = xlrd.open_workbook(loc)\n",
    "\n",
    "sheet = wb.sheet_by_index(0)\n",
    "\n",
    "print(sheet.cell_value(1,1))\n",
    "print(sheet.nrows)\n",
    "print(sheet.ncols) \n",
    "\n",
    "for i in range(sheet.ncols): \n",
    "    print(sheet.cell_value(0, i)) \n",
    "\n",
    "print(sheet.row_values(1)) "
   ]
  }
 ],
 "metadata": {
  "kernelspec": {
   "display_name": "Python 3",
   "language": "python",
   "name": "python3"
  },
  "language_info": {
   "codemirror_mode": {
    "name": "ipython",
    "version": 3
   },
   "file_extension": ".py",
   "mimetype": "text/x-python",
   "name": "python",
   "nbconvert_exporter": "python",
   "pygments_lexer": "ipython3",
   "version": "3.9.7"
  }
 },
 "nbformat": 4,
 "nbformat_minor": 4
}
