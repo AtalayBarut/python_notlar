{
 "cells": [
  {
   "cell_type": "code",
   "execution_count": 17,
   "metadata": {},
   "outputs": [
    {
     "name": "stdout",
     "output_type": "stream",
     "text": [
      "first_name - email\n",
      "Skipton - smattiacci0@berkeley.edu\n",
      "Keith - krosenfelder1@icq.com\n",
      "Helaina - hind2@japanpost.jp\n",
      "Joelly - jmilesap3@dot.gov\n",
      "Portie - pmaccoughan4@mapquest.com\n",
      "Fletcher - freynold5@blogs.com\n",
      "Arnaldo - abatch6@umich.edu\n",
      "Galven - gturban7@google.es\n",
      "Cele - clavigne8@house.gov\n",
      "Sherwin - slydall9@eventbrite.com\n"
     ]
    }
   ],
   "source": [
    "import csv\n",
    "\n",
    "with open(\"MOCK_DATA.csv\", \"r\") as f:\n",
    "    content = csv.reader(f)\n",
    "    counter = 0\n",
    "    for line in content:\n",
    "        print(line[1], \"-\" ,line[3])\n",
    "        counter += 1\n",
    "        if counter == 11 : break\n",
    "    "
   ]
  },
  {
   "cell_type": "code",
   "execution_count": 49,
   "metadata": {},
   "outputs": [
    {
     "name": "stdout",
     "output_type": "stream",
     "text": [
      "['name', 'hours worked']\n",
      "['James Miller', '25']\n",
      "['Teresia Brown', '41']\n",
      "['Mary Laney', '40']\n",
      "['name', 'hours worked']\n",
      "['James Miller', '$375']\n",
      "['Teresia Brown', '$615']\n",
      "['Mary Laney', '$600']\n",
      "None\n"
     ]
    }
   ],
   "source": [
    "import csv\n",
    "\n",
    "with open(\"EMPLOYEES.csv\", \"w\") as f:\n",
    "    data_writer = csv.writer(f)\n",
    "    data_writer.writerow(['name', 'hours worked'])\n",
    "    data_writer.writerow(['James Miller', 25])\n",
    "    data_writer.writerow(['Teresia Brown', 41])\n",
    "    data_writer.writerow(['Mary Laney', 40])\n",
    "\n",
    "with open(\"EMPLOYEES.csv\", \"r\") as f:\n",
    "    content = csv.reader(f)\n",
    "    for line in content:\n",
    "        print(line)\n",
    "\n",
    "def calculate_wages():\n",
    "    names = []\n",
    "    wages = []\n",
    "    line_count = 1\n",
    "    with open(\"EMPLOYEES.csv\", \"r\") as f:\n",
    "        content = csv.reader(f)\n",
    "        for line in content:\n",
    "            if line_count > 1:\n",
    "                names.append(line[0])\n",
    "                wages.append(int(line[1])*15)\n",
    "            line_count += 1\n",
    "\n",
    "    with open(\"WAGES.csv\", \"w\") as f:\n",
    "        data_writer = csv.writer(f)\n",
    "        data_writer.writerow(['name', 'hours worked'])\n",
    "        for i in range(0, len(names)):\n",
    "            data_writer.writerow([names[i], '$'+str(wages[i])])\n",
    "\n",
    "    with open(\"WAGES.csv\", \"r\") as f:\n",
    "        content = csv.reader(f)\n",
    "        for line in content:\n",
    "            print(line)\n",
    "\n",
    "\n",
    "print(calculate_wages())\n"
   ]
  }
 ],
 "metadata": {
  "interpreter": {
   "hash": "b2340f7de3a747b45869500d72777f24744c5eaf7e7fc51f92267a73156959d4"
  },
  "kernelspec": {
   "display_name": "Python 3.9.7 ('base')",
   "language": "python",
   "name": "python3"
  },
  "language_info": {
   "name": "python",
   "version": "3.9.7"
  },
  "orig_nbformat": 4
 },
 "nbformat": 4,
 "nbformat_minor": 2
}
