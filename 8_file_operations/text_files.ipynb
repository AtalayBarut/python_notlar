{
 "cells": [
  {
   "cell_type": "code",
   "execution_count": 2,
   "metadata": {},
   "outputs": [
    {
     "name": "stdout",
     "output_type": "stream",
     "text": [
      "Bu ilk satırdır\n",
      "Bu ikinci satırdır\n",
      "Bu da üçüncü\n",
      "----------------------------------------------------------------------------------------------------\n",
      "Bu ilk satırdır\n",
      "\n",
      "Bu ikinci satırdır\n",
      "\n",
      "Bu da üçüncü\n",
      "----------------------------------------------------------------------------------------------------\n",
      "<class 'str'>\n",
      "Bu ilk satırdır\n",
      "Bu ikinci satırdır\n",
      "Bu da üçüncü\n",
      "['B', 'u', ' ', 'i', 'l', 'k', ' ', 's', 'a', 't', 'ı', 'r', 'd', 'ı', 'r', '\\n', 'B', 'u', ' ', 'i', 'k', 'i', 'n', 'c', 'i', ' ', 's', 'a', 't', 'ı', 'r', 'd', 'ı', 'r', '\\n', 'B', 'u', ' ', 'd', 'a', ' ', 'ü', 'ç', 'ü', 'n', 'c', 'ü']\n"
     ]
    }
   ],
   "source": [
    "# SON TEKRAR DENEMELERİ\n",
    "\n",
    "f = open(\"mytextfile.txt\", \"w\")\n",
    "f.write(\"Bu ilk satırdır\")\n",
    "f.write(\"\\nBu ikinci satırdır\")\n",
    "f.close()\n",
    "\n",
    "# Burada 'a' append modunda açmazsak, eski içeriği siliyor\n",
    "f = open(\"mytextfile.txt\", \"a\")\n",
    "f.write(\"\\nBu da üçüncü\")\n",
    "f.close()\n",
    "\n",
    "# f = open(\"mytextfile.txt\", \"r\")\n",
    "# lines = [line for line in f]\n",
    "# f.close()\n",
    "# print(lines)\n",
    "\n",
    "f = open(\"mytextfile.txt\", \"r\")\n",
    "print(f.read())\n",
    "f.close()\n",
    "\n",
    "print(\"-\"*100)\n",
    "f = open(\"mytextfile.txt\", \"r\")\n",
    "for line in f:\n",
    "    print(line)\n",
    "f.close()\n",
    "\n",
    "# The 'with' Context Manager\n",
    "# Bu yapı kullanıldığında close() fonksiyonunu çağırmaya gerek kalmaz\n",
    "print(\"-\"*100)\n",
    "with open(\"mytextfile.txt\", \"r\") as f: \n",
    "    content = f.read()\n",
    "    print(type(content))\n",
    "    print(content)\n",
    "\n",
    "chars = [char for char in content]\n",
    "print(chars)"
   ]
  },
  {
   "cell_type": "code",
   "execution_count": 15,
   "metadata": {},
   "outputs": [
    {
     "name": "stdout",
     "output_type": "stream",
     "text": [
      "1,2,3,4,5\n"
     ]
    }
   ],
   "source": [
    "with open(\"Numbers.txt\", \"w\") as f:\n",
    "    f.write(\"1,2,3,4,5\")\n",
    "\n",
    "with open(\"Numbers.txt\", \"r\") as f:\n",
    "    print(f.read())"
   ]
  },
  {
   "cell_type": "markdown",
   "metadata": {},
   "source": [
    "Display the following menu to the user:\n",
    "Ask the user to enter 1, 2 or 3. If they select anything other than 1, 2 or 3 it should display a suitable error message.\n",
    "If they select 1, ask the user to enter a school subject and save it to a new file called “Subject.txt”. It should overwrite any existing file with a new file.\n",
    "If they select 2, display the contents of the “Subject.txt” file.\n",
    "If they select 3, ask the user to enter a new subject and save it to the file and then display the entire contents of the file.\n",
    "Run the program several times to test the options."
   ]
  },
  {
   "cell_type": "code",
   "execution_count": 26,
   "metadata": {},
   "outputs": [
    {
     "name": "stdout",
     "output_type": "stream",
     "text": [
      "Please make a valid selection from 1 to 3\n",
      "Please make a valid selection from 1 to 3\n",
      "Please make a valid selection from 1 to 3\n",
      "Please make a valid selection from 1 to 3\n",
      "Please make a valid selection from 1 to 3\n"
     ]
    }
   ],
   "source": [
    "def validate_selection(selection):\n",
    "    choices = [1, 2, 3]\n",
    "    if (selection not in choices):\n",
    "        print(\"Please make a valid selection from 1 to 3\")\n",
    "    else: \n",
    "        return True\n",
    "\n",
    "def add_subject():\n",
    "    selection = int(input(\" Choose one of the options: '1', '2', '3'\"))\n",
    "    if validate_selection(selection) == True:\n",
    "        if selection == 1:\n",
    "            school_subject = input(\"Enter a school subject\")\n",
    "            with open(\"Subject.txt\", \"w\") as f:\n",
    "                f.write(school_subject)\n",
    "        if selection == 2:\n",
    "            with open(\"Subject.txt\", \"r\") as f:\n",
    "                print(f.read())\n",
    "        if selection == 3:\n",
    "            new_school_subject = input(\"Enter a new school subject\")\n",
    "            with open(\"Subject.txt\", \"a\") as f:\n",
    "                f.write(\"\\n\"+new_school_subject)\n",
    "            with open(\"Subject.txt\", \"r\") as f:\n",
    "                print(f.read())\n",
    "    else:\n",
    "        add_subject()\n",
    "\n",
    "add_subject()\n"
   ]
  }
 ],
 "metadata": {
  "interpreter": {
   "hash": "b2340f7de3a747b45869500d72777f24744c5eaf7e7fc51f92267a73156959d4"
  },
  "kernelspec": {
   "display_name": "Python 3.9.7 64-bit ('base': conda)",
   "language": "python",
   "name": "python3"
  },
  "language_info": {
   "codemirror_mode": {
    "name": "ipython",
    "version": 3
   },
   "file_extension": ".py",
   "mimetype": "text/x-python",
   "name": "python",
   "nbconvert_exporter": "python",
   "pygments_lexer": "ipython3",
   "version": "3.9.7"
  },
  "orig_nbformat": 4
 },
 "nbformat": 4,
 "nbformat_minor": 2
}
