{
 "cells": [
  {
   "cell_type": "markdown",
   "metadata": {},
   "source": [
    "#### The key difference between lists and tuples is that you cannot change the elements of a tuple once they are set. This property of tuples is called immutability."
   ]
  },
  {
   "cell_type": "markdown",
   "metadata": {},
   "source": [
    "# List methods"
   ]
  },
  {
   "cell_type": "code",
   "execution_count": 2,
   "metadata": {},
   "outputs": [
    {
     "name": "stdout",
     "output_type": "stream",
     "text": [
      "[4, 18, -7, 6]\n"
     ]
    }
   ],
   "source": [
    "list1 = [4, 18, -7]\n",
    "list1.append(6)\n",
    "print(list1)"
   ]
  },
  {
   "cell_type": "code",
   "execution_count": 5,
   "metadata": {},
   "outputs": [
    {
     "name": "stdout",
     "output_type": "stream",
     "text": [
      "[4, 5, 12, 7, 1, 90]\n"
     ]
    }
   ],
   "source": [
    "list1 = [4, 5, 12]\n",
    "list2 = [7, 1, 90]\n",
    "list1.extend(list2)\n",
    "print(list1)"
   ]
  },
  {
   "cell_type": "code",
   "execution_count": 7,
   "metadata": {},
   "outputs": [
    {
     "name": "stdout",
     "output_type": "stream",
     "text": [
      "['Atalay', 'Alp', 'Osman']\n",
      "['Atalay', 'Alp', 'Osman', 'Ö', 'z', 'c', 'a', 'n']\n"
     ]
    }
   ],
   "source": [
    "list1 = [\"Atalay\", \"Alp\"]\n",
    "name1 = \"Osman\"\n",
    "name2 = \"Özcan\"\n",
    "list1.append(name1)\n",
    "print(list1)\n",
    "\n",
    "list1.extend(name2)\n",
    "print(list1)\n"
   ]
  },
  {
   "cell_type": "code",
   "execution_count": 17,
   "metadata": {},
   "outputs": [
    {
     "name": "stdout",
     "output_type": "stream",
     "text": [
      "second - Burada index 0\n",
      "['first', 'second']\n",
      "second -index ler tekrar düzenlenir, index 1 oldu\n"
     ]
    }
   ],
   "source": [
    "# insert\n",
    "things = [\"second\"]\n",
    "print(things[0], \"- Burada index 0\")\n",
    "things.insert(0, \"first\")\n",
    "print(things)\n",
    "print(things[1], \"- index ler tekrar düzenlenir, index 1 oldu\") "
   ]
  },
  {
   "cell_type": "code",
   "execution_count": 20,
   "metadata": {},
   "outputs": [
    {
     "name": "stdout",
     "output_type": "stream",
     "text": [
      "[8, 14, 54, 23, -7] - ilk bulduğu değeri çıkartıyor\n"
     ]
    }
   ],
   "source": [
    "list = [-7, 8, 14, 54, 23, -7]\n",
    "list.remove(-7)\n",
    "print(list, \"- ilk bulduğu değeri çıkartıyor\")"
   ]
  },
  {
   "cell_type": "code",
   "execution_count": 11,
   "metadata": {},
   "outputs": [
    {
     "name": "stdout",
     "output_type": "stream",
     "text": [
      "[-7, -15, 8, 14, 54, 23, -7, -16]\n",
      "[8, 14, 54, 23]\n"
     ]
    },
    {
     "data": {
      "text/plain": [
       "[-7, -15, -7, -16]"
      ]
     },
     "execution_count": 11,
     "metadata": {},
     "output_type": "execute_result"
    }
   ],
   "source": [
    "# List Comprehension !!!\n",
    "\n",
    "list = [-7, -15, 8, 14, 54, 23, -7, -16]\n",
    "\n",
    "#for num in list:\n",
    "    #if num < 0:\n",
    "        #list.remove(num)\n",
    "\n",
    "positive_list = [num for num in list if num > 0]\n",
    "\n",
    "print(list)\n",
    "print(positive_list)\n"
   ]
  },
  {
   "cell_type": "code",
   "execution_count": 12,
   "metadata": {},
   "outputs": [
    {
     "name": "stdout",
     "output_type": "stream",
     "text": [
      "[1, 4, 9, 16, 25, 36, 49, 64, 81, 100]\n",
      "[4, 16, 36, 64, 100]\n"
     ]
    }
   ],
   "source": [
    "# List Comprehension - Örnek 2\n",
    "squares = [num**2 for num in range(1, 11)]\n",
    "print(squares)\n",
    "\n",
    "squares = [num**2 for num in range(1, 11) if num%2 == 0] # Koşul belirleyebiliyoruz\n",
    "print(squares)"
   ]
  },
  {
   "cell_type": "code",
   "execution_count": 12,
   "metadata": {},
   "outputs": [
    {
     "name": "stdout",
     "output_type": "stream",
     "text": [
      "[-7, 4, 8, 14, 23]\n"
     ]
    }
   ],
   "source": [
    "# pop fonksiyonu ile belli bir index teki eleman çıkarılır, index vermezseniz son elemanı çıkarır\n",
    "list = [-7, 4, 8, 14, 54, 23, -16]\n",
    "list.pop() # listenin son elemanını yani -16 sayısını çıkarır\n",
    "list.pop(4) # 54 sayısını çıkarır\n",
    "print(list)"
   ]
  },
  {
   "cell_type": "code",
   "execution_count": 23,
   "metadata": {},
   "outputs": [
    {
     "name": "stdout",
     "output_type": "stream",
     "text": [
      "4 sayısından listede 2 adet var\n"
     ]
    }
   ],
   "source": [
    "# count\n",
    "list = [-7, 4, 8, 14, 54, 23, -16, 49, 4]\n",
    "num = 4\n",
    "print(\"{} sayısından listede {} adet var\".format(num, list.count(num)))\n"
   ]
  },
  {
   "cell_type": "code",
   "execution_count": 22,
   "metadata": {},
   "outputs": [
    {
     "name": "stdout",
     "output_type": "stream",
     "text": [
      "[4, 14, 4]\n",
      "3\n"
     ]
    }
   ],
   "source": [
    "# List comprehension ile bir liste içindeki başka bir listenin elemanlarını bulmak/saydırmak\n",
    "\n",
    "list = [-7, 4, 8, 14, 54, 23, -16, 49, 4]\n",
    "counted_list = [4, 12, 14, 33]\n",
    "print([i for i in list if i in counted_list])\n",
    "print(len([i for i in list if i in counted_list]))\n"
   ]
  },
  {
   "cell_type": "code",
   "execution_count": 26,
   "metadata": {},
   "outputs": [
    {
     "name": "stdout",
     "output_type": "stream",
     "text": [
      "[-16, -7, 4, 4, 8, 14, 23, 49, 54]\n",
      "[54, 49, 23, 14, 8, 4, 4, -7, -16]\n"
     ]
    }
   ],
   "source": [
    "# sort\n",
    "\n",
    "list = [-7, 4, 8, 14, 54, 23, -16, 49, 4]\n",
    "list.sort()\n",
    "print(list)\n",
    "list.sort(reverse = True)\n",
    "print(list)"
   ]
  },
  {
   "cell_type": "code",
   "execution_count": 27,
   "metadata": {},
   "outputs": [
    {
     "name": "stdout",
     "output_type": "stream",
     "text": [
      "[4, 49, -16, 23, 54, 14, 8, 4, -7]\n"
     ]
    }
   ],
   "source": [
    "# reverse - listeyi ters çevirme, sıralama yok\n",
    "list = [-7, 4, 8, 14, 54, 23, -16, 49, 4]\n",
    "list.reverse()\n",
    "print(list)"
   ]
  },
  {
   "cell_type": "code",
   "execution_count": 24,
   "metadata": {},
   "outputs": [
    {
     "name": "stdout",
     "output_type": "stream",
     "text": [
      "[5, 12, 34, 24]\n",
      "[5, 12, 43, 24] - list2 değişmedi\n"
     ]
    }
   ],
   "source": [
    "# copy - yeni list oluştururken\n",
    "\n",
    "list1 = [5, 12, 43, 24]\n",
    "list2 = list1.copy()\n",
    "\n",
    "list1[2] = 34\n",
    "print(list1)\n",
    "print(list2, \"- list2 değişmedi\")\n"
   ]
  },
  {
   "cell_type": "code",
   "execution_count": 31,
   "metadata": {},
   "outputs": [
    {
     "name": "stdout",
     "output_type": "stream",
     "text": [
      "[5, 12, 34, 24]\n",
      "[5, 12, 34, 24] - list2 de değişir..\n"
     ]
    }
   ],
   "source": [
    "# copy - shallow copy\n",
    "list1 = [5, 12, 43, 24]\n",
    "list2 = list1\n",
    "\n",
    "list1[2] = 34\n",
    "print(list1)\n",
    "print(list2, \"- list2 de değişir..\")"
   ]
  },
  {
   "cell_type": "code",
   "execution_count": 14,
   "metadata": {},
   "outputs": [
    {
     "name": "stdout",
     "output_type": "stream",
     "text": [
      "['Lion', 'Zebra', 'Panther', 'Antelope', 'Elephant']\n",
      "['Lion', 'Zebra', 'Panther', 'Antelope', 'Elephant']\n",
      "----------------------------------------------------------------------\n",
      "['Lion', 'Zebra', 'Panther', 'Antelope', 'Elephant']\n",
      "['Lion', 'Zebra', 'Cheetah', 'Panther', 'Antelope', 'Elephant']\n",
      "------------------------------------------------------------------------\n",
      "['Antelope', 'Cheetah', 'Elephant', 'Lion', 'Panther', 'Zebra']\n"
     ]
    }
   ],
   "source": [
    "# Activity 21\n",
    "\n",
    "wild = [\"Lion\", \"Zebra\", \"Panther\", \"Antelope\"]\n",
    "wild.append(\"Elephant\")\n",
    "\n",
    "animals = []\n",
    "animals.extend(wild)\n",
    "\n",
    "print(wild)\n",
    "print(animals)\n",
    "\n",
    "animals.insert(2, \"Cheetah\")\n",
    "print(\"-\"*70)\n",
    "print(wild)\n",
    "print(animals)\n",
    "\n",
    "print(\"-\"*70)\n",
    "animals.sort()\n",
    "print(animals)"
   ]
  },
  {
   "cell_type": "code",
   "execution_count": 6,
   "metadata": {},
   "outputs": [
    {
     "name": "stdout",
     "output_type": "stream",
     "text": [
      "List Total 49995000\n",
      "0.0017161369323730469\n",
      "----------------------------------------------------------------------\n",
      "Tuple Total 49995000\n",
      "0.0014948844909667969\n"
     ]
    }
   ],
   "source": [
    "import time\n",
    "list = [i for i in range(1,10000)]\n",
    "\n",
    "listStart = time.time()\n",
    "listTotal = 0\n",
    "for i in list:\n",
    "    listTotal += i\n",
    "print(\"List Total\", listTotal)\n",
    "listEnd = time.time()\n",
    "listTotalTime = listEnd - listStart\n",
    "print(listTotalTime)\n",
    "\n",
    "print(\"-\"*70)\n",
    "\n",
    "listTuple = tuple(list)\n",
    "tupleStart = time.time()\n",
    "tupleTotal = 0\n",
    "for i in listTuple:\n",
    "    tupleTotal += i\n",
    "print(\"Tuple Total\", tupleTotal)\n",
    "tupleEnd = time.time()\n",
    "tupleTotalTime = tupleEnd - tupleStart\n",
    "print(tupleTotalTime)"
   ]
  },
  {
   "cell_type": "code",
   "execution_count": 30,
   "metadata": {},
   "outputs": [
    {
     "name": "stdout",
     "output_type": "stream",
     "text": [
      "<class 'tuple'>\n"
     ]
    },
    {
     "data": {
      "text/plain": [
       "'dog'"
      ]
     },
     "execution_count": 30,
     "metadata": {},
     "output_type": "execute_result"
    }
   ],
   "source": [
    "# Tuple immutable dır, elemanları değiştirilemez\n",
    "\n",
    "# They are better for passing around data that you don't want changed.\n",
    "# They are better suited for use with different (heterogeneous) data types.\n",
    "\n",
    "pets = ('dog', 'cat', 'parrot')\n",
    "print(type(pets))\n",
    "pets[0]\n",
    "\n",
    "# pets[0] = \"Elephant\" - Örneğin bunu yapamazsınız"
   ]
  },
  {
   "cell_type": "code",
   "execution_count": 8,
   "metadata": {},
   "outputs": [
    {
     "name": "stdout",
     "output_type": "stream",
     "text": [
      "slicing:\n",
      "[1, 3, 5, 7, 9, 11, 13, 15, 17, 19, 21, 23, 25, 27, 29, 31, 33, 35, 37, 39, 41, 43, 45, 47, 49, 51, 53, 55, 57, 59, 61, 63, 65, 67, 69, 71, 73, 75, 77, 79, 81, 83, 85, 87, 89, 91, 93, 95, 97, 99]\n",
      "\n",
      "veya list comprehension ile:\n",
      "[1, 3, 5, 7, 9, 11, 13, 15, 17, 19, 21, 23, 25, 27, 29, 31, 33, 35, 37, 39, 41, 43, 45, 47, 49, 51, 53, 55, 57, 59, 61, 63, 65, 67, 69, 71, 73, 75, 77, 79, 81, 83, 85, 87, 89, 91, 93, 95, 97, 99]\n",
      "----------------------------------------------------------------------\n",
      "(1, 3, 5, 7, 9, 11, 13, 15, 17, 19, 21, 23, 25, 27, 29, 31, 33, 35, 37, 39, 41, 43, 45, 47, 49, 51, 53, 55, 57, 59, 61, 63, 65, 67, 69, 71, 73, 75, 77, 79, 81, 83, 85, 87, 89, 91, 93, 95, 97, 99)\n"
     ]
    }
   ],
   "source": [
    "print(\"slicing:\")\n",
    "list = [i for i in range(1, 101)] \n",
    "print(list[ : : 2])\n",
    "print(\"\\nveya list comprehension ile:\")\n",
    "print([i for i in range(1, 101) if i%2!=0])\n",
    "print(\"-\"*70)\n",
    "\n",
    "tupleAll = tuple(list)\n",
    "tupleOdd = tupleAll[ : : 2]\n",
    "print(tupleOdd)"
   ]
  },
  {
   "cell_type": "code",
   "execution_count": 27,
   "metadata": {},
   "outputs": [
    {
     "name": "stdout",
     "output_type": "stream",
     "text": [
      "(1, 2, 3, 4, 5, 6, 7, 8, 9, 10)\n",
      "(1, 2, 3, 4, 5, 6, 7, 8, 9, 10)\n",
      "(2, 4, 6, 8, 10, 12, 14, 16, 18, 20, 22, 24, 26, 28, 30, 32, 34, 36, 38, 40, 42, 44, 46, 48, 50, 52, 54, 56, 58, 60, 62, 64, 66, 68, 70, 72, 74, 76, 78, 80, 82, 84, 86, 88, 90, 92, 94, 96, 98)\n",
      "(22, 24, 26, 28, 30, 32, 34, 36, 38, 40)\n",
      "(1, 2, 3, 4, 5, 6, 7, 8, 9, 10)\n"
     ]
    }
   ],
   "source": [
    "tuple1 = tuple([i for i in range(1, 11)])\n",
    "print(tuple1)\n",
    "\n",
    "tuple2 = tuple(range(1, 11))\n",
    "print(tuple2)\n",
    "\n",
    "tuple_even = tuple([i for i in range(1, 100) if i % 2 == 0])\n",
    "print(tuple_even)\n",
    "print(tuple_even[10:20])\n",
    "\n",
    "tuple4 = (1, 2, 3, 4, 5, 6, 7, 8, 9, 10)\n",
    "print(tuple4)\n"
   ]
  },
  {
   "cell_type": "code",
   "execution_count": 37,
   "metadata": {},
   "outputs": [
    {
     "name": "stdout",
     "output_type": "stream",
     "text": [
      "('turkey', 'england', 'germany', 'united states', 'mexico')\n",
      "turkey\n",
      "0\n"
     ]
    }
   ],
   "source": [
    "countries = [\"Turkey\", \"England\", \"Germany\", \"United States\", \"Mexico\"]\n",
    "countries_lower = tuple([i.lower() for i in countries])\n",
    "print(countries_lower)\n",
    "country = input(\"Type country:\")\n",
    "country = country.lower()\n",
    "print(country)\n",
    "print(countries_lower.index(country))"
   ]
  },
  {
   "cell_type": "code",
   "execution_count": 49,
   "metadata": {},
   "outputs": [
    {
     "name": "stdout",
     "output_type": "stream",
     "text": [
      "123 \n",
      "\n",
      "145 \n",
      "\n",
      "154 \n",
      "\n",
      "257 \n",
      "\n",
      "Girmiş olduğunuz numara 2 nolu index tedir\n"
     ]
    }
   ],
   "source": [
    "numbers = [123, 145, 154, 257]\n",
    "for num in numbers:\n",
    "    print(num, \"\\n\")\n",
    "\n",
    "chosen_number = int(input(\"Enter the number you are looking for:\"))\n",
    "\n",
    "if(chosen_number in numbers):\n",
    "    print(\"Girmiş olduğunuz numara {} nolu index tedir\".format(numbers.index(chosen_number)))\n",
    "else:\n",
    "    print(\"Girdiğiniz numara listede yer almıyor\")\n"
   ]
  }
 ],
 "metadata": {
  "kernelspec": {
   "display_name": "Python 3",
   "language": "python",
   "name": "python3"
  },
  "language_info": {
   "codemirror_mode": {
    "name": "ipython",
    "version": 3
   },
   "file_extension": ".py",
   "mimetype": "text/x-python",
   "name": "python",
   "nbconvert_exporter": "python",
   "pygments_lexer": "ipython3",
   "version": "3.9.7"
  }
 },
 "nbformat": 4,
 "nbformat_minor": 4
}
